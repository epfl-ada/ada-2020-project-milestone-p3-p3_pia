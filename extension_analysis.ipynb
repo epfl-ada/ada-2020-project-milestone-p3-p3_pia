{
 "cells": [
  {
   "cell_type": "markdown",
   "metadata": {},
   "source": [
    "# Creative Extension Analysis"
   ]
  },
  {
   "cell_type": "markdown",
   "metadata": {},
   "source": [
    "In this notebook, we propose a creative extension analysis of the paper _Friendship and Mobility: User Movement in Location-Based Social Networks_. We chose to answer multiple research questions by using the same datasets (check-ins) and an additional one (airports). \n",
    "\n",
    "In particular, we aim to find out:\n",
    "- Which countries travel the most long distance by plane?\n",
    "- Where do people from different countries travel to the most?\n",
    "- Where users' friends are based?\n",
    "- Is it possible to predict user home areas based on their long distance travel patterns?"
   ]
  },
  {
   "cell_type": "markdown",
   "metadata": {},
   "source": [
    "## Tools"
   ]
  },
  {
   "cell_type": "code",
   "execution_count": 1,
   "metadata": {},
   "outputs": [],
   "source": [
    "import networkx as nx\n",
    "import pandas as pd\n",
    "import numpy as np\n",
    "import matplotlib.pyplot as plt\n",
    "import math\n",
    "from numba import njit\n",
    "import itertools\n",
    "\n",
    "import reverse_geocoder\n",
    "import pickle\n",
    "import os"
   ]
  },
  {
   "cell_type": "code",
   "execution_count": 2,
   "metadata": {},
   "outputs": [],
   "source": [
    "%load_ext blackcellmagic"
   ]
  },
  {
   "cell_type": "markdown",
   "metadata": {},
   "source": [
    "## Load the Data"
   ]
  },
  {
   "cell_type": "markdown",
   "metadata": {},
   "source": [
    "We load the check-ins datasets and the new airport dataset."
   ]
  },
  {
   "cell_type": "code",
   "execution_count": 3,
   "metadata": {},
   "outputs": [],
   "source": [
    "data_folder = \"data\"\n",
    "\n",
    "checkins_b = pd.read_csv(\n",
    "    os.path.join(data_folder, \"loc-brightkite_totalCheckins.txt.gz\"),\n",
    "    compression=\"gzip\",\n",
    "    delimiter=\"\\t\",\n",
    "    usecols=[0, 1, 2, 3],\n",
    "    names=[\"user\", \"checkin_time\", \"latitude\", \"longitude\"],\n",
    "    parse_dates = [\"checkin_time\"]\n",
    ")\n",
    "\n",
    "checkins_g = pd.read_csv(\n",
    "    os.path.join(data_folder, \"loc-gowalla_totalCheckins.txt.gz\"),\n",
    "    compression=\"gzip\",\n",
    "    delimiter=\"\\t\",\n",
    "    usecols=[0, 1, 2, 3],\n",
    "    names=[\"user\", \"checkin_time\", \"latitude\", \"longitude\"],\n",
    ")\n",
    "\n",
    "airports = pd.read_csv(\n",
    "    os.path.join(data_folder, \"airports.csv\"), usecols=[2, 3, 4, 5, 8]\n",
    ")\n",
    "\n",
    "countries = pd.read_csv(\n",
    "    os.path.join(data_folder, \"countries.csv\"), usecols=[1, 2],\n",
    "    names=[\"iso_country\", \"country\"]\n",
    ")"
   ]
  },
  {
   "cell_type": "markdown",
   "metadata": {},
   "source": [
    "In the following cells, we will only display dataframes for Brightkite."
   ]
  },
  {
   "cell_type": "code",
   "execution_count": 4,
   "metadata": {},
   "outputs": [
    {
     "data": {
      "text/html": [
       "<div>\n",
       "<style scoped>\n",
       "    .dataframe tbody tr th:only-of-type {\n",
       "        vertical-align: middle;\n",
       "    }\n",
       "\n",
       "    .dataframe tbody tr th {\n",
       "        vertical-align: top;\n",
       "    }\n",
       "\n",
       "    .dataframe thead th {\n",
       "        text-align: right;\n",
       "    }\n",
       "</style>\n",
       "<table border=\"1\" class=\"dataframe\">\n",
       "  <thead>\n",
       "    <tr style=\"text-align: right;\">\n",
       "      <th></th>\n",
       "      <th>user</th>\n",
       "      <th>checkin_time</th>\n",
       "      <th>latitude</th>\n",
       "      <th>longitude</th>\n",
       "    </tr>\n",
       "  </thead>\n",
       "  <tbody>\n",
       "    <tr>\n",
       "      <th>0</th>\n",
       "      <td>0</td>\n",
       "      <td>2010-10-17 01:48:53+00:00</td>\n",
       "      <td>39.747652</td>\n",
       "      <td>-104.992510</td>\n",
       "    </tr>\n",
       "    <tr>\n",
       "      <th>1</th>\n",
       "      <td>0</td>\n",
       "      <td>2010-10-16 06:02:04+00:00</td>\n",
       "      <td>39.891383</td>\n",
       "      <td>-105.070814</td>\n",
       "    </tr>\n",
       "    <tr>\n",
       "      <th>2</th>\n",
       "      <td>0</td>\n",
       "      <td>2010-10-16 03:48:54+00:00</td>\n",
       "      <td>39.891077</td>\n",
       "      <td>-105.068532</td>\n",
       "    </tr>\n",
       "    <tr>\n",
       "      <th>3</th>\n",
       "      <td>0</td>\n",
       "      <td>2010-10-14 18:25:51+00:00</td>\n",
       "      <td>39.750469</td>\n",
       "      <td>-104.999073</td>\n",
       "    </tr>\n",
       "    <tr>\n",
       "      <th>4</th>\n",
       "      <td>0</td>\n",
       "      <td>2010-10-14 00:21:47+00:00</td>\n",
       "      <td>39.752713</td>\n",
       "      <td>-104.996337</td>\n",
       "    </tr>\n",
       "  </tbody>\n",
       "</table>\n",
       "</div>"
      ],
      "text/plain": [
       "   user              checkin_time   latitude   longitude\n",
       "0     0 2010-10-17 01:48:53+00:00  39.747652 -104.992510\n",
       "1     0 2010-10-16 06:02:04+00:00  39.891383 -105.070814\n",
       "2     0 2010-10-16 03:48:54+00:00  39.891077 -105.068532\n",
       "3     0 2010-10-14 18:25:51+00:00  39.750469 -104.999073\n",
       "4     0 2010-10-14 00:21:47+00:00  39.752713 -104.996337"
      ]
     },
     "execution_count": 4,
     "metadata": {},
     "output_type": "execute_result"
    }
   ],
   "source": [
    "checkins_b.head()"
   ]
  },
  {
   "cell_type": "markdown",
   "metadata": {},
   "source": [
    "## Preprocessing Check-ins Datasets"
   ]
  },
  {
   "cell_type": "code",
   "execution_count": 5,
   "metadata": {},
   "outputs": [
    {
     "name": "stdout",
     "output_type": "stream",
     "text": [
      "Brightkite checkins dataset has 4747287 rows.\n",
      "Gowalla checkins dataset has 6442892 rows.\n"
     ]
    }
   ],
   "source": [
    "print(f\"Brightkite checkins dataset has {len(checkins_b)} rows.\")\n",
    "print(f\"Gowalla checkins dataset has {len(checkins_g)} rows.\")"
   ]
  },
  {
   "cell_type": "markdown",
   "metadata": {},
   "source": [
    "We check for missing values in both datasets"
   ]
  },
  {
   "cell_type": "code",
   "execution_count": 6,
   "metadata": {},
   "outputs": [
    {
     "name": "stdout",
     "output_type": "stream",
     "text": [
      "There are 6 rows in Brightkite with at least a NaN value.\n",
      "There are 0 rows in Gowalla with at least a NaN value.\n",
      "\n",
      "Where the NaN values are in Brightkite:\n"
     ]
    },
    {
     "data": {
      "text/plain": [
       "user            False\n",
       "checkin_time     True\n",
       "latitude         True\n",
       "longitude        True\n",
       "dtype: bool"
      ]
     },
     "execution_count": 6,
     "metadata": {},
     "output_type": "execute_result"
    }
   ],
   "source": [
    "NaN_rows_b = np.count_nonzero(np.count_nonzero(checkins_b.isnull(), axis=1))\n",
    "NaN_rows_g = np.count_nonzero(np.count_nonzero(checkins_g.isnull(), axis=1))\n",
    "print(f\"There are {NaN_rows_b} rows in Brightkite with at least a NaN value.\")\n",
    "print(f\"There are {NaN_rows_g} rows in Gowalla with at least a NaN value.\")\n",
    "print(\"\\nWhere the NaN values are in Brightkite:\")\n",
    "checkins_b.isnull().any()"
   ]
  },
  {
   "cell_type": "markdown",
   "metadata": {},
   "source": [
    "We see that Brightkite has just 6 rows with a NaN value. As we can see above thes NaN values are in the latitude and longitude column. We will remove the rows containg NaNs since these are probably some measuring mistakes."
   ]
  },
  {
   "cell_type": "code",
   "execution_count": 7,
   "metadata": {},
   "outputs": [],
   "source": [
    "checkins_b = checkins_b.dropna()"
   ]
  },
  {
   "cell_type": "markdown",
   "metadata": {},
   "source": [
    "We see there are coordinates with incorrect values in both datasets:"
   ]
  },
  {
   "cell_type": "code",
   "execution_count": 8,
   "metadata": {},
   "outputs": [
    {
     "name": "stdout",
     "output_type": "stream",
     "text": [
      "There are 109 wrong coordinates in Brightkite.\n",
      "There are 29 wrong coordinates in Gowalla.\n"
     ]
    }
   ],
   "source": [
    "wrong_coordinates_b = checkins_b[\n",
    "    ((checkins_b[\"longitude\"] < -180) | (checkins_b[\"longitude\"] > 180))\n",
    "    | ((checkins_b[\"latitude\"] < -90) | (checkins_b[\"latitude\"] > 90))\n",
    "]\n",
    "wrong_coordinates_g = checkins_g[\n",
    "    ((checkins_g[\"longitude\"] < -180) | (checkins_g[\"longitude\"] > 180))\n",
    "    | ((checkins_g[\"latitude\"] < -90) | (checkins_g[\"latitude\"] > 90))\n",
    "]\n",
    "\n",
    "print(f\"There are {len(wrong_coordinates_b)} wrong coordinates in Brightkite.\")\n",
    "print(f\"There are {len(wrong_coordinates_g)} wrong coordinates in Gowalla.\")"
   ]
  },
  {
   "cell_type": "markdown",
   "metadata": {},
   "source": [
    "The incorrect latitudes are probably some type of errors that happen unfrequently. As we can see there are only 109 and 29 incorrect coordinates in the BrightKite and Gowalla dataframe respectively. These might be measuring errors from the user's device or some conversion error or error while saving the coordinates in the Dataframe.\n",
    "\n",
    "We can also see that there are check-ins at coordinate (0,0). These are probably outliers since these coordinates are in the middle of the Atlantic Ocean. Even though Gowalla only has a few, we will remove these datapoints in both datasets. Even though some datapoints in the datasets might not be outliers but just tourists visiting the virtual [Null Island](https://fr.wikipedia.org/wiki/Null_Island), we can safely assume that noone's home can be located there and we thus will remove all check-ins at (0,0)."
   ]
  },
  {
   "cell_type": "code",
   "execution_count": 9,
   "metadata": {},
   "outputs": [
    {
     "name": "stdout",
     "output_type": "stream",
     "text": [
      "There are 256137 datapoints at coordinates (0,0) in the Brightkite dataset.\n",
      "There are 135 datapoints at coordinates (0,0) in the Gowalla dataset.\n"
     ]
    }
   ],
   "source": [
    "number_00_checkins_b = len(\n",
    "    checkins_b[\n",
    "        (checkins_b.latitude == 0)\n",
    "        & (checkins_b.longitude == 0)\n",
    "    ]\n",
    ")\n",
    "\n",
    "number_00_checkins_g = len(\n",
    "    checkins_g[\n",
    "        (checkins_g.latitude == 0)\n",
    "        & (checkins_g.longitude == 0)\n",
    "    ]\n",
    ")\n",
    "\n",
    "print(\n",
    "    f\"There are {number_00_checkins_b} datapoints at coordinates (0,0) in the Brightkite dataset.\"\n",
    ")\n",
    "\n",
    "print(\n",
    "    f\"There are {number_00_checkins_g} datapoints at coordinates (0,0) in the Gowalla dataset.\"\n",
    ")"
   ]
  },
  {
   "cell_type": "markdown",
   "metadata": {},
   "source": [
    "There are far more errors in the Brightkite dataset suggesting that there is some difference in the way the two services handle coordinates. A reason might be that these errors are due to users' devices but in this case it would mean that almost all users with faulty devices are in Brightkite and none are in Gowalla. This might be explained by the fact that Gowalla might have more requirements for users' devices before they download their service (better OS version, better sensors....).  \n",
    "Another reason might be that Gowalla has some mechanism to detect fault measurements and remove them.  \n",
    "Another reason might be that Brightkite might allow users to have the app without using their GPS and saves all checkins with default coordinate (0,0). This might sound strange but maybe they still want to save users' checkins even though they don't have GPS coordinates. In this case it would have been more reasonable to put some other value to indicate a lack of GPS coordinates (ex. NaN). \n",
    "\n",
    "We can now just keep the coordinates with correct values ad not at (0,0):"
   ]
  },
  {
   "cell_type": "code",
   "execution_count": 10,
   "metadata": {},
   "outputs": [],
   "source": [
    "checkins_b = checkins_b[\n",
    "    (checkins_b.latitude >= -90)\n",
    "    & (checkins_b.latitude <= 90)\n",
    "    & ~((checkins_b.latitude == 0) & (checkins_b.longitude == 0))\n",
    "]\n",
    "\n",
    "checkins_g = checkins_g[\n",
    "    (checkins_g.latitude >= -90)\n",
    "    & (checkins_g.latitude <= 90)\n",
    "    & ~((checkins_g.latitude == 0) & (checkins_g.longitude == 0))\n",
    "]"
   ]
  },
  {
   "cell_type": "code",
   "execution_count": 11,
   "metadata": {},
   "outputs": [
    {
     "data": {
      "text/html": [
       "<div>\n",
       "<style scoped>\n",
       "    .dataframe tbody tr th:only-of-type {\n",
       "        vertical-align: middle;\n",
       "    }\n",
       "\n",
       "    .dataframe tbody tr th {\n",
       "        vertical-align: top;\n",
       "    }\n",
       "\n",
       "    .dataframe thead th {\n",
       "        text-align: right;\n",
       "    }\n",
       "</style>\n",
       "<table border=\"1\" class=\"dataframe\">\n",
       "  <thead>\n",
       "    <tr style=\"text-align: right;\">\n",
       "      <th></th>\n",
       "      <th>user</th>\n",
       "      <th>checkin_time</th>\n",
       "      <th>latitude</th>\n",
       "      <th>longitude</th>\n",
       "    </tr>\n",
       "  </thead>\n",
       "  <tbody>\n",
       "    <tr>\n",
       "      <th>0</th>\n",
       "      <td>0</td>\n",
       "      <td>2010-10-17 01:48:53+00:00</td>\n",
       "      <td>39.747652</td>\n",
       "      <td>-104.992510</td>\n",
       "    </tr>\n",
       "    <tr>\n",
       "      <th>1</th>\n",
       "      <td>0</td>\n",
       "      <td>2010-10-16 06:02:04+00:00</td>\n",
       "      <td>39.891383</td>\n",
       "      <td>-105.070814</td>\n",
       "    </tr>\n",
       "    <tr>\n",
       "      <th>2</th>\n",
       "      <td>0</td>\n",
       "      <td>2010-10-16 03:48:54+00:00</td>\n",
       "      <td>39.891077</td>\n",
       "      <td>-105.068532</td>\n",
       "    </tr>\n",
       "    <tr>\n",
       "      <th>3</th>\n",
       "      <td>0</td>\n",
       "      <td>2010-10-14 18:25:51+00:00</td>\n",
       "      <td>39.750469</td>\n",
       "      <td>-104.999073</td>\n",
       "    </tr>\n",
       "    <tr>\n",
       "      <th>4</th>\n",
       "      <td>0</td>\n",
       "      <td>2010-10-14 00:21:47+00:00</td>\n",
       "      <td>39.752713</td>\n",
       "      <td>-104.996337</td>\n",
       "    </tr>\n",
       "  </tbody>\n",
       "</table>\n",
       "</div>"
      ],
      "text/plain": [
       "   user              checkin_time   latitude   longitude\n",
       "0     0 2010-10-17 01:48:53+00:00  39.747652 -104.992510\n",
       "1     0 2010-10-16 06:02:04+00:00  39.891383 -105.070814\n",
       "2     0 2010-10-16 03:48:54+00:00  39.891077 -105.068532\n",
       "3     0 2010-10-14 18:25:51+00:00  39.750469 -104.999073\n",
       "4     0 2010-10-14 00:21:47+00:00  39.752713 -104.996337"
      ]
     },
     "execution_count": 11,
     "metadata": {},
     "output_type": "execute_result"
    }
   ],
   "source": [
    "checkins_b.head()"
   ]
  },
  {
   "cell_type": "markdown",
   "metadata": {},
   "source": [
    "## Work on Airport Dataset"
   ]
  },
  {
   "cell_type": "code",
   "execution_count": 12,
   "metadata": {},
   "outputs": [
    {
     "data": {
      "text/html": [
       "<div>\n",
       "<style scoped>\n",
       "    .dataframe tbody tr th:only-of-type {\n",
       "        vertical-align: middle;\n",
       "    }\n",
       "\n",
       "    .dataframe tbody tr th {\n",
       "        vertical-align: top;\n",
       "    }\n",
       "\n",
       "    .dataframe thead th {\n",
       "        text-align: right;\n",
       "    }\n",
       "</style>\n",
       "<table border=\"1\" class=\"dataframe\">\n",
       "  <thead>\n",
       "    <tr style=\"text-align: right;\">\n",
       "      <th></th>\n",
       "      <th>type</th>\n",
       "      <th>name</th>\n",
       "      <th>latitude_deg</th>\n",
       "      <th>longitude_deg</th>\n",
       "      <th>iso_country</th>\n",
       "    </tr>\n",
       "  </thead>\n",
       "  <tbody>\n",
       "    <tr>\n",
       "      <th>0</th>\n",
       "      <td>heliport</td>\n",
       "      <td>Total Rf Heliport</td>\n",
       "      <td>40.070801</td>\n",
       "      <td>-74.933601</td>\n",
       "      <td>US</td>\n",
       "    </tr>\n",
       "    <tr>\n",
       "      <th>1</th>\n",
       "      <td>small_airport</td>\n",
       "      <td>Aero B Ranch Airport</td>\n",
       "      <td>38.704022</td>\n",
       "      <td>-101.473911</td>\n",
       "      <td>US</td>\n",
       "    </tr>\n",
       "    <tr>\n",
       "      <th>2</th>\n",
       "      <td>small_airport</td>\n",
       "      <td>Lowell Field</td>\n",
       "      <td>59.949200</td>\n",
       "      <td>-151.695999</td>\n",
       "      <td>US</td>\n",
       "    </tr>\n",
       "    <tr>\n",
       "      <th>3</th>\n",
       "      <td>small_airport</td>\n",
       "      <td>Epps Airpark</td>\n",
       "      <td>34.864799</td>\n",
       "      <td>-86.770302</td>\n",
       "      <td>US</td>\n",
       "    </tr>\n",
       "    <tr>\n",
       "      <th>4</th>\n",
       "      <td>closed</td>\n",
       "      <td>Newport Hospital &amp; Clinic Heliport</td>\n",
       "      <td>35.608700</td>\n",
       "      <td>-91.254898</td>\n",
       "      <td>US</td>\n",
       "    </tr>\n",
       "  </tbody>\n",
       "</table>\n",
       "</div>"
      ],
      "text/plain": [
       "            type                                name  latitude_deg  \\\n",
       "0       heliport                   Total Rf Heliport     40.070801   \n",
       "1  small_airport                Aero B Ranch Airport     38.704022   \n",
       "2  small_airport                        Lowell Field     59.949200   \n",
       "3  small_airport                        Epps Airpark     34.864799   \n",
       "4         closed  Newport Hospital & Clinic Heliport     35.608700   \n",
       "\n",
       "   longitude_deg iso_country  \n",
       "0     -74.933601          US  \n",
       "1    -101.473911          US  \n",
       "2    -151.695999          US  \n",
       "3     -86.770302          US  \n",
       "4     -91.254898          US  "
      ]
     },
     "execution_count": 12,
     "metadata": {},
     "output_type": "execute_result"
    }
   ],
   "source": [
    "airports.head()"
   ]
  },
  {
   "cell_type": "markdown",
   "metadata": {},
   "source": [
    "Wee see there are many different types of airports:"
   ]
  },
  {
   "cell_type": "code",
   "execution_count": 13,
   "metadata": {},
   "outputs": [
    {
     "data": {
      "text/plain": [
       "small_airport     35218\n",
       "heliport          12515\n",
       "closed             4862\n",
       "medium_airport     4538\n",
       "seaplane_base      1039\n",
       "large_airport       613\n",
       "balloonport          25\n",
       "Name: type, dtype: int64"
      ]
     },
     "execution_count": 13,
     "metadata": {},
     "output_type": "execute_result"
    }
   ],
   "source": [
    "airports.type.value_counts()"
   ]
  },
  {
   "cell_type": "markdown",
   "metadata": {},
   "source": [
    "We are only interested in airports, we check some examples of different types of airports in Switzerland:"
   ]
  },
  {
   "cell_type": "code",
   "execution_count": 14,
   "metadata": {},
   "outputs": [
    {
     "data": {
      "text/html": [
       "<div>\n",
       "<style scoped>\n",
       "    .dataframe tbody tr th:only-of-type {\n",
       "        vertical-align: middle;\n",
       "    }\n",
       "\n",
       "    .dataframe tbody tr th {\n",
       "        vertical-align: top;\n",
       "    }\n",
       "\n",
       "    .dataframe thead th {\n",
       "        text-align: right;\n",
       "    }\n",
       "</style>\n",
       "<table border=\"1\" class=\"dataframe\">\n",
       "  <thead>\n",
       "    <tr style=\"text-align: right;\">\n",
       "      <th></th>\n",
       "      <th>type</th>\n",
       "      <th>name</th>\n",
       "      <th>latitude_deg</th>\n",
       "      <th>longitude_deg</th>\n",
       "      <th>iso_country</th>\n",
       "    </tr>\n",
       "  </thead>\n",
       "  <tbody>\n",
       "    <tr>\n",
       "      <th>15528</th>\n",
       "      <td>small_airport</td>\n",
       "      <td>Altiport de Croix de Coeur</td>\n",
       "      <td>46.123380</td>\n",
       "      <td>7.234250</td>\n",
       "      <td>CH</td>\n",
       "    </tr>\n",
       "    <tr>\n",
       "      <th>15529</th>\n",
       "      <td>small_airport</td>\n",
       "      <td>Altisurface du Glacier de Prasfleuri</td>\n",
       "      <td>46.064289</td>\n",
       "      <td>7.354317</td>\n",
       "      <td>CH</td>\n",
       "    </tr>\n",
       "    <tr>\n",
       "      <th>15530</th>\n",
       "      <td>small_airport</td>\n",
       "      <td>Altiport du Glacier de Tsanfleuron</td>\n",
       "      <td>46.320653</td>\n",
       "      <td>7.232880</td>\n",
       "      <td>CH</td>\n",
       "    </tr>\n",
       "    <tr>\n",
       "      <th>34348</th>\n",
       "      <td>small_airport</td>\n",
       "      <td>Bex Airport</td>\n",
       "      <td>46.258301</td>\n",
       "      <td>6.986390</td>\n",
       "      <td>CH</td>\n",
       "    </tr>\n",
       "    <tr>\n",
       "      <th>34350</th>\n",
       "      <td>small_airport</td>\n",
       "      <td>Ecuvillens Airport</td>\n",
       "      <td>46.755001</td>\n",
       "      <td>7.076110</td>\n",
       "      <td>CH</td>\n",
       "    </tr>\n",
       "  </tbody>\n",
       "</table>\n",
       "</div>"
      ],
      "text/plain": [
       "                type                                  name  latitude_deg  \\\n",
       "15528  small_airport            Altiport de Croix de Coeur     46.123380   \n",
       "15529  small_airport  Altisurface du Glacier de Prasfleuri     46.064289   \n",
       "15530  small_airport    Altiport du Glacier de Tsanfleuron     46.320653   \n",
       "34348  small_airport                           Bex Airport     46.258301   \n",
       "34350  small_airport                    Ecuvillens Airport     46.755001   \n",
       "\n",
       "       longitude_deg iso_country  \n",
       "15528       7.234250          CH  \n",
       "15529       7.354317          CH  \n",
       "15530       7.232880          CH  \n",
       "34348       6.986390          CH  \n",
       "34350       7.076110          CH  "
      ]
     },
     "execution_count": 14,
     "metadata": {},
     "output_type": "execute_result"
    }
   ],
   "source": [
    "airports[(airports.iso_country == \"CH\") & (airports.type == \"small_airport\")].head(5)"
   ]
  },
  {
   "cell_type": "code",
   "execution_count": 15,
   "metadata": {},
   "outputs": [
    {
     "data": {
      "text/html": [
       "<div>\n",
       "<style scoped>\n",
       "    .dataframe tbody tr th:only-of-type {\n",
       "        vertical-align: middle;\n",
       "    }\n",
       "\n",
       "    .dataframe tbody tr th {\n",
       "        vertical-align: top;\n",
       "    }\n",
       "\n",
       "    .dataframe thead th {\n",
       "        text-align: right;\n",
       "    }\n",
       "</style>\n",
       "<table border=\"1\" class=\"dataframe\">\n",
       "  <thead>\n",
       "    <tr style=\"text-align: right;\">\n",
       "      <th></th>\n",
       "      <th>type</th>\n",
       "      <th>name</th>\n",
       "      <th>latitude_deg</th>\n",
       "      <th>longitude_deg</th>\n",
       "      <th>iso_country</th>\n",
       "    </tr>\n",
       "  </thead>\n",
       "  <tbody>\n",
       "    <tr>\n",
       "      <th>34349</th>\n",
       "      <td>medium_airport</td>\n",
       "      <td>Les Eplatures Airport</td>\n",
       "      <td>47.083900</td>\n",
       "      <td>6.792840</td>\n",
       "      <td>CH</td>\n",
       "    </tr>\n",
       "    <tr>\n",
       "      <th>34357</th>\n",
       "      <td>medium_airport</td>\n",
       "      <td>Sion Airport</td>\n",
       "      <td>46.219166</td>\n",
       "      <td>7.326944</td>\n",
       "      <td>CH</td>\n",
       "    </tr>\n",
       "    <tr>\n",
       "      <th>34363</th>\n",
       "      <td>medium_airport</td>\n",
       "      <td>Alpnach Air Base</td>\n",
       "      <td>46.943901</td>\n",
       "      <td>8.284170</td>\n",
       "      <td>CH</td>\n",
       "    </tr>\n",
       "    <tr>\n",
       "      <th>34364</th>\n",
       "      <td>medium_airport</td>\n",
       "      <td>Dübendorf Air Base</td>\n",
       "      <td>47.398602</td>\n",
       "      <td>8.648230</td>\n",
       "      <td>CH</td>\n",
       "    </tr>\n",
       "    <tr>\n",
       "      <th>34365</th>\n",
       "      <td>medium_airport</td>\n",
       "      <td>Emmen Air Base</td>\n",
       "      <td>47.092444</td>\n",
       "      <td>8.305184</td>\n",
       "      <td>CH</td>\n",
       "    </tr>\n",
       "  </tbody>\n",
       "</table>\n",
       "</div>"
      ],
      "text/plain": [
       "                 type                   name  latitude_deg  longitude_deg  \\\n",
       "34349  medium_airport  Les Eplatures Airport     47.083900       6.792840   \n",
       "34357  medium_airport           Sion Airport     46.219166       7.326944   \n",
       "34363  medium_airport       Alpnach Air Base     46.943901       8.284170   \n",
       "34364  medium_airport     Dübendorf Air Base     47.398602       8.648230   \n",
       "34365  medium_airport         Emmen Air Base     47.092444       8.305184   \n",
       "\n",
       "      iso_country  \n",
       "34349          CH  \n",
       "34357          CH  \n",
       "34363          CH  \n",
       "34364          CH  \n",
       "34365          CH  "
      ]
     },
     "execution_count": 15,
     "metadata": {},
     "output_type": "execute_result"
    }
   ],
   "source": [
    "airports[(airports.iso_country=='CH') & (airports.type=='medium_airport')].head(5)"
   ]
  },
  {
   "cell_type": "code",
   "execution_count": 16,
   "metadata": {},
   "outputs": [
    {
     "data": {
      "text/html": [
       "<div>\n",
       "<style scoped>\n",
       "    .dataframe tbody tr th:only-of-type {\n",
       "        vertical-align: middle;\n",
       "    }\n",
       "\n",
       "    .dataframe tbody tr th {\n",
       "        vertical-align: top;\n",
       "    }\n",
       "\n",
       "    .dataframe thead th {\n",
       "        text-align: right;\n",
       "    }\n",
       "</style>\n",
       "<table border=\"1\" class=\"dataframe\">\n",
       "  <thead>\n",
       "    <tr style=\"text-align: right;\">\n",
       "      <th></th>\n",
       "      <th>type</th>\n",
       "      <th>name</th>\n",
       "      <th>latitude_deg</th>\n",
       "      <th>longitude_deg</th>\n",
       "      <th>iso_country</th>\n",
       "    </tr>\n",
       "  </thead>\n",
       "  <tbody>\n",
       "    <tr>\n",
       "      <th>34351</th>\n",
       "      <td>large_airport</td>\n",
       "      <td>Geneva Cointrin International Airport</td>\n",
       "      <td>46.238098</td>\n",
       "      <td>6.10895</td>\n",
       "      <td>CH</td>\n",
       "    </tr>\n",
       "    <tr>\n",
       "      <th>34411</th>\n",
       "      <td>large_airport</td>\n",
       "      <td>Zürich Airport</td>\n",
       "      <td>47.464699</td>\n",
       "      <td>8.54917</td>\n",
       "      <td>CH</td>\n",
       "    </tr>\n",
       "  </tbody>\n",
       "</table>\n",
       "</div>"
      ],
      "text/plain": [
       "                type                                   name  latitude_deg  \\\n",
       "34351  large_airport  Geneva Cointrin International Airport     46.238098   \n",
       "34411  large_airport                         Zürich Airport     47.464699   \n",
       "\n",
       "       longitude_deg iso_country  \n",
       "34351        6.10895          CH  \n",
       "34411        8.54917          CH  "
      ]
     },
     "execution_count": 16,
     "metadata": {},
     "output_type": "execute_result"
    }
   ],
   "source": [
    "airports[(airports.iso_country=='CH') & (airports.type=='large_airport')].head(5)"
   ]
  },
  {
   "cell_type": "markdown",
   "metadata": {},
   "source": [
    "We are only interested in large airports, so we only keep them:"
   ]
  },
  {
   "cell_type": "code",
   "execution_count": 17,
   "metadata": {},
   "outputs": [],
   "source": [
    "airports = airports[(airports.type == \"large_airport\")]\n",
    "airports = airports.drop(columns=\"type\")"
   ]
  },
  {
   "cell_type": "markdown",
   "metadata": {},
   "source": [
    "We check the countries with most large airports."
   ]
  },
  {
   "cell_type": "code",
   "execution_count": 18,
   "metadata": {},
   "outputs": [
    {
     "data": {
      "text/plain": [
       "US    170\n",
       "CN     35\n",
       "GB     27\n",
       "RU     19\n",
       "DE     17\n",
       "Name: iso_country, dtype: int64"
      ]
     },
     "execution_count": 18,
     "metadata": {},
     "output_type": "execute_result"
    }
   ],
   "source": [
    "airports.iso_country.value_counts().head(5)"
   ]
  },
  {
   "cell_type": "markdown",
   "metadata": {},
   "source": [
    "We now merge with the `countries` DataFrame to get the name of each country for each airport:"
   ]
  },
  {
   "cell_type": "code",
   "execution_count": 19,
   "metadata": {},
   "outputs": [
    {
     "data": {
      "text/html": [
       "<div>\n",
       "<style scoped>\n",
       "    .dataframe tbody tr th:only-of-type {\n",
       "        vertical-align: middle;\n",
       "    }\n",
       "\n",
       "    .dataframe tbody tr th {\n",
       "        vertical-align: top;\n",
       "    }\n",
       "\n",
       "    .dataframe thead th {\n",
       "        text-align: right;\n",
       "    }\n",
       "</style>\n",
       "<table border=\"1\" class=\"dataframe\">\n",
       "  <thead>\n",
       "    <tr style=\"text-align: right;\">\n",
       "      <th></th>\n",
       "      <th>iso_country</th>\n",
       "      <th>country</th>\n",
       "    </tr>\n",
       "  </thead>\n",
       "  <tbody>\n",
       "    <tr>\n",
       "      <th>0</th>\n",
       "      <td>code</td>\n",
       "      <td>name</td>\n",
       "    </tr>\n",
       "    <tr>\n",
       "      <th>1</th>\n",
       "      <td>AD</td>\n",
       "      <td>Andorra</td>\n",
       "    </tr>\n",
       "    <tr>\n",
       "      <th>2</th>\n",
       "      <td>AE</td>\n",
       "      <td>United Arab Emirates</td>\n",
       "    </tr>\n",
       "    <tr>\n",
       "      <th>3</th>\n",
       "      <td>AF</td>\n",
       "      <td>Afghanistan</td>\n",
       "    </tr>\n",
       "    <tr>\n",
       "      <th>4</th>\n",
       "      <td>AG</td>\n",
       "      <td>Antigua and Barbuda</td>\n",
       "    </tr>\n",
       "  </tbody>\n",
       "</table>\n",
       "</div>"
      ],
      "text/plain": [
       "  iso_country               country\n",
       "0        code                  name\n",
       "1          AD               Andorra\n",
       "2          AE  United Arab Emirates\n",
       "3          AF           Afghanistan\n",
       "4          AG   Antigua and Barbuda"
      ]
     },
     "execution_count": 19,
     "metadata": {},
     "output_type": "execute_result"
    }
   ],
   "source": [
    "countries.head()"
   ]
  },
  {
   "cell_type": "markdown",
   "metadata": {},
   "source": [
    "We first check for NA values and remove the correspoinding rows:"
   ]
  },
  {
   "cell_type": "code",
   "execution_count": 20,
   "metadata": {},
   "outputs": [
    {
     "name": "stdout",
     "output_type": "stream",
     "text": [
      "iso_country    1\n",
      "country        0\n",
      "dtype: int64\n"
     ]
    }
   ],
   "source": [
    "print(countries.isna().sum())"
   ]
  },
  {
   "cell_type": "code",
   "execution_count": 21,
   "metadata": {},
   "outputs": [],
   "source": [
    "countries = countries.dropna()"
   ]
  },
  {
   "cell_type": "code",
   "execution_count": 22,
   "metadata": {},
   "outputs": [],
   "source": [
    "airports = airports.merge(countries)"
   ]
  },
  {
   "cell_type": "code",
   "execution_count": 23,
   "metadata": {},
   "outputs": [
    {
     "data": {
      "text/html": [
       "<div>\n",
       "<style scoped>\n",
       "    .dataframe tbody tr th:only-of-type {\n",
       "        vertical-align: middle;\n",
       "    }\n",
       "\n",
       "    .dataframe tbody tr th {\n",
       "        vertical-align: top;\n",
       "    }\n",
       "\n",
       "    .dataframe thead th {\n",
       "        text-align: right;\n",
       "    }\n",
       "</style>\n",
       "<table border=\"1\" class=\"dataframe\">\n",
       "  <thead>\n",
       "    <tr style=\"text-align: right;\">\n",
       "      <th></th>\n",
       "      <th>name</th>\n",
       "      <th>latitude_deg</th>\n",
       "      <th>longitude_deg</th>\n",
       "      <th>iso_country</th>\n",
       "      <th>country</th>\n",
       "    </tr>\n",
       "  </thead>\n",
       "  <tbody>\n",
       "    <tr>\n",
       "      <th>0</th>\n",
       "      <td>Port Moresby Jacksons International Airport</td>\n",
       "      <td>-9.443380</td>\n",
       "      <td>147.220001</td>\n",
       "      <td>PG</td>\n",
       "      <td>Papua New Guinea</td>\n",
       "    </tr>\n",
       "    <tr>\n",
       "      <th>1</th>\n",
       "      <td>Keflavik International Airport</td>\n",
       "      <td>63.985001</td>\n",
       "      <td>-22.605600</td>\n",
       "      <td>IS</td>\n",
       "      <td>Iceland</td>\n",
       "    </tr>\n",
       "    <tr>\n",
       "      <th>2</th>\n",
       "      <td>Priština International Airport</td>\n",
       "      <td>42.572800</td>\n",
       "      <td>21.035801</td>\n",
       "      <td>XK</td>\n",
       "      <td>Kosovo</td>\n",
       "    </tr>\n",
       "    <tr>\n",
       "      <th>3</th>\n",
       "      <td>Guodu air base</td>\n",
       "      <td>36.001741</td>\n",
       "      <td>117.632010</td>\n",
       "      <td>CN</td>\n",
       "      <td>China</td>\n",
       "    </tr>\n",
       "    <tr>\n",
       "      <th>4</th>\n",
       "      <td>Yantai Penglai International Airport</td>\n",
       "      <td>37.657222</td>\n",
       "      <td>120.987222</td>\n",
       "      <td>CN</td>\n",
       "      <td>China</td>\n",
       "    </tr>\n",
       "  </tbody>\n",
       "</table>\n",
       "</div>"
      ],
      "text/plain": [
       "                                          name  latitude_deg  longitude_deg  \\\n",
       "0  Port Moresby Jacksons International Airport     -9.443380     147.220001   \n",
       "1               Keflavik International Airport     63.985001     -22.605600   \n",
       "2               Priština International Airport     42.572800      21.035801   \n",
       "3                               Guodu air base     36.001741     117.632010   \n",
       "4         Yantai Penglai International Airport     37.657222     120.987222   \n",
       "\n",
       "  iso_country           country  \n",
       "0          PG  Papua New Guinea  \n",
       "1          IS           Iceland  \n",
       "2          XK            Kosovo  \n",
       "3          CN             China  \n",
       "4          CN             China  "
      ]
     },
     "execution_count": 23,
     "metadata": {},
     "output_type": "execute_result"
    }
   ],
   "source": [
    "airports.head()"
   ]
  },
  {
   "cell_type": "markdown",
   "metadata": {},
   "source": [
    "## Exploratory Data Analysis"
   ]
  },
  {
   "cell_type": "code",
   "execution_count": null,
   "metadata": {},
   "outputs": [],
   "source": []
  },
  {
   "cell_type": "code",
   "execution_count": null,
   "metadata": {},
   "outputs": [],
   "source": []
  },
  {
   "cell_type": "markdown",
   "metadata": {},
   "source": [
    "### Finding the home of each user"
   ]
  },
  {
   "cell_type": "markdown",
   "metadata": {},
   "source": [
    "We use the following [formulas](https://stackoverflow.com/questions/1253499/simple-calculations-for-working-with-lat-lon-and-km-distance) to transform latitude and longitude into kilometers.\n",
    "\n",
    "- **Latitude: 1 deg = 110.574 km**  \n",
    "- **Longitude: 1 deg = 111.320*cos(latitude) km**\n",
    "\n",
    "We will divide the world according to 25km*25km squares. Each cell will be identified using a unique number. We first define two indices per box: $x,y\\in \\mathbb{Z}$  \n",
    "The box (0,0) will be the box with lower left (i.e southwest) coordinate (0,0).  \n",
    "X indexes grow when going east. $x \\in [-N, N]$.  \n",
    "Y indexes grow north. $y \\in [-M, M]$\n",
    "\n",
    "Then we create a unique number using [Cantor pairing function](https://en.wikipedia.org/wiki/Pairing_function#Cantor_pairing_function):\n",
    "$$f(n_1, n_2) = \\frac{1}{2}(n_2 + n_1)(n_2+n_1+1)+n_1$$\n",
    "\n",
    "We use [njit](https://numba.pydata.org/numba-doc/latest/user/performance-tips.html) to make the calculations faster."
   ]
  },
  {
   "cell_type": "code",
   "execution_count": 24,
   "metadata": {},
   "outputs": [],
   "source": [
    "@njit\n",
    "def assign_cell(latitude, longitude):\n",
    "    \"\"\"\n",
    "    Assign a cell_number based on the cantor pairing function and discretization into 25km * 25km cells.\n",
    "\n",
    "    Arguments\n",
    "    =========\n",
    "    latitude : float\n",
    "        latitude in degrees.\n",
    "    longitude : float\n",
    "        longitude in degrees.\n",
    "\n",
    "    Returns\n",
    "    =======\n",
    "    cell_number : int\n",
    "        Cell number based on the cantor pair function.\n",
    "    \"\"\"\n",
    "\n",
    "    km_east = 111.320 * np.cos(np.deg2rad(latitude)) * longitude\n",
    "    km_north = 110.574 * latitude\n",
    "    x_index = km_east // 25\n",
    "    y_index = km_north // 25\n",
    "    cell_number = (1/2)*(y_index + x_index)*(y_index + x_index + 1) + x_index\n",
    "    return cell_number"
   ]
  },
  {
   "cell_type": "code",
   "execution_count": 25,
   "metadata": {},
   "outputs": [],
   "source": [
    "checkins_b[\"cell_number\"] = assign_cell(checkins_b[\"latitude\"].values, checkins_b[\"longitude\"].values)\n",
    "checkins_g[\"cell_number\"] = assign_cell(checkins_g[\"latitude\"].values, checkins_g[\"longitude\"].values)\n",
    "\n",
    "checkins_b[\"cell_number\"] = checkins_b[\"cell_number\"].astype('int')\n",
    "checkins_g[\"cell_number\"] = checkins_g[\"cell_number\"].astype('int')"
   ]
  },
  {
   "cell_type": "markdown",
   "metadata": {},
   "source": [
    "The goal of the step below is to find the box_index with most check-ins for each user. To do this, we:\n",
    "1. Group by user and box_index and get the counts.\n",
    "2. We sort these counts and take the biggest for each user.\n",
    "3. We recreate a DataFrame from the Serie we now have.\n",
    "4. We sort the DataFrame by user and make [\"user\", \"box_index\"] the only columns."
   ]
  },
  {
   "cell_type": "code",
   "execution_count": 26,
   "metadata": {},
   "outputs": [
    {
     "data": {
      "text/html": [
       "<div>\n",
       "<style scoped>\n",
       "    .dataframe tbody tr th:only-of-type {\n",
       "        vertical-align: middle;\n",
       "    }\n",
       "\n",
       "    .dataframe tbody tr th {\n",
       "        vertical-align: top;\n",
       "    }\n",
       "\n",
       "    .dataframe thead th {\n",
       "        text-align: right;\n",
       "    }\n",
       "</style>\n",
       "<table border=\"1\" class=\"dataframe\">\n",
       "  <thead>\n",
       "    <tr style=\"text-align: right;\">\n",
       "      <th></th>\n",
       "      <th>user</th>\n",
       "      <th>cell_number</th>\n",
       "    </tr>\n",
       "  </thead>\n",
       "  <tbody>\n",
       "    <tr>\n",
       "      <th>0</th>\n",
       "      <td>0</td>\n",
       "      <td>16660</td>\n",
       "    </tr>\n",
       "    <tr>\n",
       "      <th>1</th>\n",
       "      <td>1</td>\n",
       "      <td>34813</td>\n",
       "    </tr>\n",
       "    <tr>\n",
       "      <th>2</th>\n",
       "      <td>2</td>\n",
       "      <td>16660</td>\n",
       "    </tr>\n",
       "    <tr>\n",
       "      <th>3</th>\n",
       "      <td>3</td>\n",
       "      <td>34813</td>\n",
       "    </tr>\n",
       "    <tr>\n",
       "      <th>4</th>\n",
       "      <td>4</td>\n",
       "      <td>51736</td>\n",
       "    </tr>\n",
       "  </tbody>\n",
       "</table>\n",
       "</div>"
      ],
      "text/plain": [
       "   user  cell_number\n",
       "0     0        16660\n",
       "1     1        34813\n",
       "2     2        16660\n",
       "3     3        34813\n",
       "4     4        51736"
      ]
     },
     "execution_count": 26,
     "metadata": {},
     "output_type": "execute_result"
    }
   ],
   "source": [
    "user_cell_b = (\n",
    "    checkins_b.groupby(by=[\"user\", \"cell_number\"])\n",
    "    .size()\n",
    "    .sort_values()\n",
    "    .groupby(level=0)\n",
    "    .tail(1)\n",
    "    .to_frame()\n",
    "    .sort_values(\"user\")\n",
    "    .reset_index()\n",
    "    .drop(columns=0)\n",
    ")\n",
    "\n",
    "user_cell_g = (\n",
    "    checkins_g.groupby(by=[\"user\", \"cell_number\"])\n",
    "    .size()\n",
    "    .sort_values()\n",
    "    .groupby(level=0)\n",
    "    .tail(1)\n",
    "    .to_frame()\n",
    "    .sort_values(\"user\")\n",
    "    .reset_index()\n",
    "    .drop(columns=0)\n",
    ")\n",
    "\n",
    "user_cell_b.head()"
   ]
  },
  {
   "cell_type": "markdown",
   "metadata": {},
   "source": [
    "We create a new dataframe to have the home coordinates of each user. (Recall: home coordinates are the average location of check-ins in the most visited box per user)."
   ]
  },
  {
   "cell_type": "code",
   "execution_count": 27,
   "metadata": {},
   "outputs": [],
   "source": [
    "homes_b = (\n",
    "    user_cell_b.merge(checkins_b).groupby(\"user\").mean()\n",
    ")\n",
    "\n",
    "homes_g = (\n",
    "    user_cell_g.merge(checkins_g).groupby(\"user\").mean()\n",
    ")"
   ]
  },
  {
   "cell_type": "code",
   "execution_count": 28,
   "metadata": {},
   "outputs": [
    {
     "data": {
      "text/html": [
       "<div>\n",
       "<style scoped>\n",
       "    .dataframe tbody tr th:only-of-type {\n",
       "        vertical-align: middle;\n",
       "    }\n",
       "\n",
       "    .dataframe tbody tr th {\n",
       "        vertical-align: top;\n",
       "    }\n",
       "\n",
       "    .dataframe thead th {\n",
       "        text-align: right;\n",
       "    }\n",
       "</style>\n",
       "<table border=\"1\" class=\"dataframe\">\n",
       "  <thead>\n",
       "    <tr style=\"text-align: right;\">\n",
       "      <th></th>\n",
       "      <th>cell_number</th>\n",
       "      <th>latitude</th>\n",
       "      <th>longitude</th>\n",
       "    </tr>\n",
       "    <tr>\n",
       "      <th>user</th>\n",
       "      <th></th>\n",
       "      <th></th>\n",
       "      <th></th>\n",
       "    </tr>\n",
       "  </thead>\n",
       "  <tbody>\n",
       "    <tr>\n",
       "      <th>0</th>\n",
       "      <td>16660</td>\n",
       "      <td>39.746677</td>\n",
       "      <td>-104.973619</td>\n",
       "    </tr>\n",
       "    <tr>\n",
       "      <th>1</th>\n",
       "      <td>34813</td>\n",
       "      <td>37.602712</td>\n",
       "      <td>-122.377186</td>\n",
       "    </tr>\n",
       "    <tr>\n",
       "      <th>2</th>\n",
       "      <td>16660</td>\n",
       "      <td>39.738340</td>\n",
       "      <td>-104.960762</td>\n",
       "    </tr>\n",
       "    <tr>\n",
       "      <th>3</th>\n",
       "      <td>34813</td>\n",
       "      <td>37.670403</td>\n",
       "      <td>-122.406295</td>\n",
       "    </tr>\n",
       "    <tr>\n",
       "      <th>4</th>\n",
       "      <td>51736</td>\n",
       "      <td>60.173672</td>\n",
       "      <td>24.942450</td>\n",
       "    </tr>\n",
       "  </tbody>\n",
       "</table>\n",
       "</div>"
      ],
      "text/plain": [
       "      cell_number   latitude   longitude\n",
       "user                                    \n",
       "0           16660  39.746677 -104.973619\n",
       "1           34813  37.602712 -122.377186\n",
       "2           16660  39.738340 -104.960762\n",
       "3           34813  37.670403 -122.406295\n",
       "4           51736  60.173672   24.942450"
      ]
     },
     "execution_count": 28,
     "metadata": {},
     "output_type": "execute_result"
    }
   ],
   "source": [
    "homes_b.head()"
   ]
  },
  {
   "cell_type": "markdown",
   "metadata": {},
   "source": [
    "### Find the country of residence for each user\n",
    "\n",
    "We want to retrieve the country of residence of each user. To do so, we will collect all cells in which there is at least one home. Then we assume all homes in one cell are from one country. To minimize errors due to this 25km x 25km discretization we will identify each cell by the average checkin position of all checkins inside the cell. This way if a cell is between two countries and most checkins are on one side of the border we will define the majority of homes in the country where the most checkins happened.\n",
    "\n",
    "We create a function which will return the country code given a point coordinates."
   ]
  },
  {
   "cell_type": "code",
   "execution_count": 29,
   "metadata": {},
   "outputs": [],
   "source": [
    "center_cells_b = checkins_b[['latitude', 'longitude', 'cell_number']].groupby('cell_number').mean()\n",
    "center_cells_g = checkins_g[['latitude', 'longitude', 'cell_number']].groupby('cell_number').mean()\n",
    "\n",
    "center_cells_b = center_cells_b.reset_index()\n",
    "center_cells_g = center_cells_g.reset_index()"
   ]
  },
  {
   "cell_type": "code",
   "execution_count": 30,
   "metadata": {},
   "outputs": [
    {
     "data": {
      "text/html": [
       "<div>\n",
       "<style scoped>\n",
       "    .dataframe tbody tr th:only-of-type {\n",
       "        vertical-align: middle;\n",
       "    }\n",
       "\n",
       "    .dataframe tbody tr th {\n",
       "        vertical-align: top;\n",
       "    }\n",
       "\n",
       "    .dataframe thead th {\n",
       "        text-align: right;\n",
       "    }\n",
       "</style>\n",
       "<table border=\"1\" class=\"dataframe\">\n",
       "  <thead>\n",
       "    <tr style=\"text-align: right;\">\n",
       "      <th></th>\n",
       "      <th>cell_number</th>\n",
       "      <th>latitude</th>\n",
       "      <th>longitude</th>\n",
       "    </tr>\n",
       "  </thead>\n",
       "  <tbody>\n",
       "    <tr>\n",
       "      <th>0</th>\n",
       "      <td>-286</td>\n",
       "      <td>64.545703</td>\n",
       "      <td>-149.087119</td>\n",
       "    </tr>\n",
       "    <tr>\n",
       "      <th>1</th>\n",
       "      <td>-284</td>\n",
       "      <td>64.152500</td>\n",
       "      <td>-145.842222</td>\n",
       "    </tr>\n",
       "    <tr>\n",
       "      <th>2</th>\n",
       "      <td>-282</td>\n",
       "      <td>63.562699</td>\n",
       "      <td>-142.300615</td>\n",
       "    </tr>\n",
       "    <tr>\n",
       "      <th>3</th>\n",
       "      <td>-280</td>\n",
       "      <td>63.934833</td>\n",
       "      <td>-145.788211</td>\n",
       "    </tr>\n",
       "    <tr>\n",
       "      <th>4</th>\n",
       "      <td>-279</td>\n",
       "      <td>63.661389</td>\n",
       "      <td>-144.064444</td>\n",
       "    </tr>\n",
       "  </tbody>\n",
       "</table>\n",
       "</div>"
      ],
      "text/plain": [
       "   cell_number   latitude   longitude\n",
       "0         -286  64.545703 -149.087119\n",
       "1         -284  64.152500 -145.842222\n",
       "2         -282  63.562699 -142.300615\n",
       "3         -280  63.934833 -145.788211\n",
       "4         -279  63.661389 -144.064444"
      ]
     },
     "execution_count": 30,
     "metadata": {},
     "output_type": "execute_result"
    }
   ],
   "source": [
    "center_cells_b.head()"
   ]
  },
  {
   "cell_type": "code",
   "execution_count": 31,
   "metadata": {},
   "outputs": [],
   "source": [
    "home_countries_b = homes_b.merge(center_cells_b, on='cell_number', suffixes=[\"_home\", \"_cell\"])\n",
    "home_countries_g = homes_g.merge(center_cells_g, on='cell_number', suffixes=[\"_home\", \"_cell\"])"
   ]
  },
  {
   "cell_type": "code",
   "execution_count": 32,
   "metadata": {},
   "outputs": [],
   "source": [
    "home_countries_b = home_countries_b.drop(columns=[\"latitude_home\", \"longitude_home\"])\n",
    "home_countries_g = home_countries_g.drop(columns=[\"latitude_home\", \"longitude_home\"])\n",
    "\n",
    "home_countries_b = home_countries_b.drop_duplicates()\n",
    "home_countries_g = home_countries_g.drop_duplicates()"
   ]
  },
  {
   "cell_type": "code",
   "execution_count": 33,
   "metadata": {},
   "outputs": [
    {
     "data": {
      "text/html": [
       "<div>\n",
       "<style scoped>\n",
       "    .dataframe tbody tr th:only-of-type {\n",
       "        vertical-align: middle;\n",
       "    }\n",
       "\n",
       "    .dataframe tbody tr th {\n",
       "        vertical-align: top;\n",
       "    }\n",
       "\n",
       "    .dataframe thead th {\n",
       "        text-align: right;\n",
       "    }\n",
       "</style>\n",
       "<table border=\"1\" class=\"dataframe\">\n",
       "  <thead>\n",
       "    <tr style=\"text-align: right;\">\n",
       "      <th></th>\n",
       "      <th>cell_number</th>\n",
       "      <th>latitude_cell</th>\n",
       "      <th>longitude_cell</th>\n",
       "    </tr>\n",
       "  </thead>\n",
       "  <tbody>\n",
       "    <tr>\n",
       "      <th>0</th>\n",
       "      <td>16660</td>\n",
       "      <td>39.731991</td>\n",
       "      <td>-104.980205</td>\n",
       "    </tr>\n",
       "    <tr>\n",
       "      <th>751</th>\n",
       "      <td>34813</td>\n",
       "      <td>37.626781</td>\n",
       "      <td>-122.389266</td>\n",
       "    </tr>\n",
       "    <tr>\n",
       "      <th>974</th>\n",
       "      <td>51736</td>\n",
       "      <td>60.183202</td>\n",
       "      <td>24.943493</td>\n",
       "    </tr>\n",
       "    <tr>\n",
       "      <th>1179</th>\n",
       "      <td>5274</td>\n",
       "      <td>41.911515</td>\n",
       "      <td>-87.676377</td>\n",
       "    </tr>\n",
       "    <tr>\n",
       "      <th>1780</th>\n",
       "      <td>20922</td>\n",
       "      <td>43.590722</td>\n",
       "      <td>3.737697</td>\n",
       "    </tr>\n",
       "  </tbody>\n",
       "</table>\n",
       "</div>"
      ],
      "text/plain": [
       "      cell_number  latitude_cell  longitude_cell\n",
       "0           16660      39.731991     -104.980205\n",
       "751         34813      37.626781     -122.389266\n",
       "974         51736      60.183202       24.943493\n",
       "1179         5274      41.911515      -87.676377\n",
       "1780        20922      43.590722        3.737697"
      ]
     },
     "execution_count": 33,
     "metadata": {},
     "output_type": "execute_result"
    }
   ],
   "source": [
    "home_countries_b.head()"
   ]
  },
  {
   "cell_type": "code",
   "execution_count": 34,
   "metadata": {},
   "outputs": [],
   "source": [
    "\n",
    "\n",
    "def retrieve_country(lat, lon):\n",
    "    \"\"\"\n",
    "    Return the ISO country code of a point in space\n",
    "\n",
    "    Arguments\n",
    "    =========\n",
    "        lat : float\n",
    "            Latitude of the point\n",
    "        lon : float\n",
    "            Longitude of the point\n",
    "\n",
    "    Returns\n",
    "    =======\n",
    "        str\n",
    "            ISO country code of the point\n",
    "\n",
    "    \"\"\"\n",
    "\n",
    "    return reverse_geocoder.search((lat, lon))[0][\"cc\"]\n",
    "\n",
    "\n",
    "# vectorize the function\n",
    "retrieve_country_vec = np.vectorize(retrieve_country)"
   ]
  },
  {
   "cell_type": "markdown",
   "metadata": {},
   "source": [
    "The following cell takes a lot of time, so we pickled it."
   ]
  },
  {
   "cell_type": "code",
   "execution_count": 44,
   "metadata": {},
   "outputs": [],
   "source": [
    "# home_countries_b[\"country\"] = retrieve_country_vec(\n",
    "#    home_countries_b[\"latitude_cell\"], home_countries_b[\"longitude_cell\"]\n",
    "# )\n",
    "\n",
    "# home_countries_g[\"country\"] = retrieve_country_vec(\n",
    "#    home_countries_g[\"latitude_cell\"], home_countries_g[\"longitude_cell\"]\n",
    "# )"
   ]
  },
  {
   "cell_type": "code",
   "execution_count": 45,
   "metadata": {},
   "outputs": [],
   "source": [
    "# home_countries_b.to_pickle(os.path.join(data_folder, 'home_countries_b.pkl'))\n",
    "# home_countries_g.to_pickle(os.path.join(data_folder, 'home_countries_g.pkl'))"
   ]
  },
  {
   "cell_type": "code",
   "execution_count": 46,
   "metadata": {},
   "outputs": [],
   "source": [
    "home_countries_b = pd.read_pickle(os.path.join(data_folder, \"home_countries_b.pkl\"))\n",
    "home_countries_g = pd.read_pickle(os.path.join(data_folder, \"home_countries_g.pkl\"))"
   ]
  },
  {
   "cell_type": "code",
   "execution_count": null,
   "metadata": {},
   "outputs": [],
   "source": [
    "home_countries_b.head()"
   ]
  },
  {
   "cell_type": "markdown",
   "metadata": {},
   "source": [
    "Now that we have for each 'home' the country code, we can now merge the two datasets so that we have a complete dataframe."
   ]
  },
  {
   "cell_type": "code",
   "execution_count": 39,
   "metadata": {},
   "outputs": [],
   "source": [
    "homes_b = homes_b.reset_index().merge(home_countries_b, on='cell_number')\n",
    "homes_g = homes_g.reset_index().merge(home_countries_g, on=\"cell_number\")\n",
    "\n",
    "homes_b = homes_b.drop(columns = ['latitude_cell', 'longitude_cell'])\n",
    "homes_g = homes_g.drop(columns=[\"latitude_cell\", \"longitude_cell\"])"
   ]
  },
  {
   "cell_type": "code",
   "execution_count": 43,
   "metadata": {},
   "outputs": [
    {
     "data": {
      "text/html": [
       "<div>\n",
       "<style scoped>\n",
       "    .dataframe tbody tr th:only-of-type {\n",
       "        vertical-align: middle;\n",
       "    }\n",
       "\n",
       "    .dataframe tbody tr th {\n",
       "        vertical-align: top;\n",
       "    }\n",
       "\n",
       "    .dataframe thead th {\n",
       "        text-align: right;\n",
       "    }\n",
       "</style>\n",
       "<table border=\"1\" class=\"dataframe\">\n",
       "  <thead>\n",
       "    <tr style=\"text-align: right;\">\n",
       "      <th></th>\n",
       "      <th>user</th>\n",
       "      <th>cell_number</th>\n",
       "      <th>latitude</th>\n",
       "      <th>longitude</th>\n",
       "      <th>country</th>\n",
       "    </tr>\n",
       "  </thead>\n",
       "  <tbody>\n",
       "    <tr>\n",
       "      <th>21060</th>\n",
       "      <td>138273</td>\n",
       "      <td>16088</td>\n",
       "      <td>45.537270</td>\n",
       "      <td>-122.568411</td>\n",
       "      <td>US</td>\n",
       "    </tr>\n",
       "    <tr>\n",
       "      <th>98187</th>\n",
       "      <td>170310</td>\n",
       "      <td>40783</td>\n",
       "      <td>58.291940</td>\n",
       "      <td>12.309998</td>\n",
       "      <td>SE</td>\n",
       "    </tr>\n",
       "    <tr>\n",
       "      <th>43959</th>\n",
       "      <td>143342</td>\n",
       "      <td>33179</td>\n",
       "      <td>52.352277</td>\n",
       "      <td>9.774810</td>\n",
       "      <td>DE</td>\n",
       "    </tr>\n",
       "    <tr>\n",
       "      <th>17984</th>\n",
       "      <td>131423</td>\n",
       "      <td>34549</td>\n",
       "      <td>37.648456</td>\n",
       "      <td>-122.100071</td>\n",
       "      <td>US</td>\n",
       "    </tr>\n",
       "    <tr>\n",
       "      <th>30529</th>\n",
       "      <td>989</td>\n",
       "      <td>27125</td>\n",
       "      <td>30.625818</td>\n",
       "      <td>-96.335887</td>\n",
       "      <td>US</td>\n",
       "    </tr>\n",
       "    <tr>\n",
       "      <th>23449</th>\n",
       "      <td>105717</td>\n",
       "      <td>46097</td>\n",
       "      <td>59.333336</td>\n",
       "      <td>18.394076</td>\n",
       "      <td>SE</td>\n",
       "    </tr>\n",
       "    <tr>\n",
       "      <th>89174</th>\n",
       "      <td>132177</td>\n",
       "      <td>41072</td>\n",
       "      <td>57.794744</td>\n",
       "      <td>13.419371</td>\n",
       "      <td>SE</td>\n",
       "    </tr>\n",
       "    <tr>\n",
       "      <th>6862</th>\n",
       "      <td>22424</td>\n",
       "      <td>35079</td>\n",
       "      <td>37.375792</td>\n",
       "      <td>-122.002734</td>\n",
       "      <td>US</td>\n",
       "    </tr>\n",
       "    <tr>\n",
       "      <th>67509</th>\n",
       "      <td>46940</td>\n",
       "      <td>26872</td>\n",
       "      <td>35.089092</td>\n",
       "      <td>-106.621090</td>\n",
       "      <td>US</td>\n",
       "    </tr>\n",
       "    <tr>\n",
       "      <th>2319</th>\n",
       "      <td>95113</td>\n",
       "      <td>29027</td>\n",
       "      <td>30.267717</td>\n",
       "      <td>-97.751649</td>\n",
       "      <td>US</td>\n",
       "    </tr>\n",
       "  </tbody>\n",
       "</table>\n",
       "</div>"
      ],
      "text/plain": [
       "         user  cell_number   latitude   longitude country\n",
       "21060  138273        16088  45.537270 -122.568411      US\n",
       "98187  170310        40783  58.291940   12.309998      SE\n",
       "43959  143342        33179  52.352277    9.774810      DE\n",
       "17984  131423        34549  37.648456 -122.100071      US\n",
       "30529     989        27125  30.625818  -96.335887      US\n",
       "23449  105717        46097  59.333336   18.394076      SE\n",
       "89174  132177        41072  57.794744   13.419371      SE\n",
       "6862    22424        35079  37.375792 -122.002734      US\n",
       "67509   46940        26872  35.089092 -106.621090      US\n",
       "2319    95113        29027  30.267717  -97.751649      US"
      ]
     },
     "execution_count": 43,
     "metadata": {},
     "output_type": "execute_result"
    }
   ],
   "source": [
    "homes_g.sample(10)"
   ]
  },
  {
   "cell_type": "markdown",
   "metadata": {},
   "source": [
    "### Detect long distance travel\n",
    "\n",
    "We are using the following heuristic to detect a long distance travel. If two consecutive checkins of a same user happen at a distance of more than 500km, we assume a long dictance trip occured and we can safely assume most of those happened by plane.\n",
    "\n",
    "To do that we will:\n",
    "1. Sort checkins by user and time.\n",
    "2. Filter and keep only checkins that happen just before and after a long distance travel"
   ]
  },
  {
   "cell_type": "code",
   "execution_count": 56,
   "metadata": {},
   "outputs": [],
   "source": [
    "checkins_b = checkins_b.sort_values(by=[\"user\", \"checkin_time\"])\n",
    "checkins_g = checkins_g.sort_values(by=[\"user\", \"checkin_time\"])"
   ]
  },
  {
   "cell_type": "code",
   "execution_count": 81,
   "metadata": {},
   "outputs": [],
   "source": [
    "long_distance_travel_b = checkins_b.reset_index().merge(\n",
    "    checkins_b.shift(-1).dropna().reset_index(),\n",
    "    on=\"index\",\n",
    "    suffixes=(\"_start\", \"_end\"),\n",
    ")\n",
    "\n",
    "long_distance_travel_b = long_distance_travel_b[long_distance_travel_b.user_start == long_distance_travel_b.user_end]\n",
    "long_distance_travel_b = long_distance_travel_b.drop(columns=[\"index\"])\n",
    "\n",
    "long_distance_travel_g = checkins_g.reset_index().merge(\n",
    "    checkins_g.shift(-1).dropna().reset_index(),\n",
    "    on=\"index\",\n",
    "    suffixes=(\"_start\", \"_end\"),\n",
    ")\n",
    "\n",
    "long_distance_travel_g = long_distance_travel_g[long_distance_travel_g.user_start == long_distance_travel_g.user_end]\n",
    "long_distance_travel_g = long_distance_travel_g.drop(columns=[\"index\"])\n"
   ]
  },
  {
   "cell_type": "code",
   "execution_count": 82,
   "metadata": {},
   "outputs": [
    {
     "data": {
      "text/html": [
       "<div>\n",
       "<style scoped>\n",
       "    .dataframe tbody tr th:only-of-type {\n",
       "        vertical-align: middle;\n",
       "    }\n",
       "\n",
       "    .dataframe tbody tr th {\n",
       "        vertical-align: top;\n",
       "    }\n",
       "\n",
       "    .dataframe thead th {\n",
       "        text-align: right;\n",
       "    }\n",
       "</style>\n",
       "<table border=\"1\" class=\"dataframe\">\n",
       "  <thead>\n",
       "    <tr style=\"text-align: right;\">\n",
       "      <th></th>\n",
       "      <th>user_start</th>\n",
       "      <th>checkin_time_start</th>\n",
       "      <th>latitude_start</th>\n",
       "      <th>longitude_start</th>\n",
       "      <th>cell_number_start</th>\n",
       "      <th>user_end</th>\n",
       "      <th>checkin_time_end</th>\n",
       "      <th>latitude_end</th>\n",
       "      <th>longitude_end</th>\n",
       "      <th>cell_number_end</th>\n",
       "    </tr>\n",
       "  </thead>\n",
       "  <tbody>\n",
       "    <tr>\n",
       "      <th>0</th>\n",
       "      <td>0</td>\n",
       "      <td>2009-05-25 20:56:10+00:00</td>\n",
       "      <td>37.774929</td>\n",
       "      <td>-122.419415</td>\n",
       "      <td>34285</td>\n",
       "      <td>0.0</td>\n",
       "      <td>2009-05-25 21:35:28+00:00</td>\n",
       "      <td>37.600747</td>\n",
       "      <td>-122.382376</td>\n",
       "      <td>34813.0</td>\n",
       "    </tr>\n",
       "    <tr>\n",
       "      <th>1</th>\n",
       "      <td>0</td>\n",
       "      <td>2009-05-25 21:35:28+00:00</td>\n",
       "      <td>37.600747</td>\n",
       "      <td>-122.382376</td>\n",
       "      <td>34813</td>\n",
       "      <td>0.0</td>\n",
       "      <td>2009-05-25 21:37:44+00:00</td>\n",
       "      <td>37.600747</td>\n",
       "      <td>-122.382376</td>\n",
       "      <td>34813.0</td>\n",
       "    </tr>\n",
       "    <tr>\n",
       "      <th>2</th>\n",
       "      <td>0</td>\n",
       "      <td>2009-05-25 21:37:44+00:00</td>\n",
       "      <td>37.600747</td>\n",
       "      <td>-122.382376</td>\n",
       "      <td>34813</td>\n",
       "      <td>0.0</td>\n",
       "      <td>2009-05-25 21:42:47+00:00</td>\n",
       "      <td>37.600747</td>\n",
       "      <td>-122.382376</td>\n",
       "      <td>34813.0</td>\n",
       "    </tr>\n",
       "    <tr>\n",
       "      <th>3</th>\n",
       "      <td>0</td>\n",
       "      <td>2009-05-25 21:42:47+00:00</td>\n",
       "      <td>37.600747</td>\n",
       "      <td>-122.382376</td>\n",
       "      <td>34813</td>\n",
       "      <td>0.0</td>\n",
       "      <td>2009-05-25 22:13:23+00:00</td>\n",
       "      <td>37.615223</td>\n",
       "      <td>-122.389979</td>\n",
       "      <td>34813.0</td>\n",
       "    </tr>\n",
       "    <tr>\n",
       "      <th>4</th>\n",
       "      <td>0</td>\n",
       "      <td>2009-05-25 22:13:23+00:00</td>\n",
       "      <td>37.615223</td>\n",
       "      <td>-122.389979</td>\n",
       "      <td>34813</td>\n",
       "      <td>0.0</td>\n",
       "      <td>2009-05-26 02:21:12+00:00</td>\n",
       "      <td>39.878664</td>\n",
       "      <td>-104.682105</td>\n",
       "      <td>16113.0</td>\n",
       "    </tr>\n",
       "    <tr>\n",
       "      <th>...</th>\n",
       "      <td>...</td>\n",
       "      <td>...</td>\n",
       "      <td>...</td>\n",
       "      <td>...</td>\n",
       "      <td>...</td>\n",
       "      <td>...</td>\n",
       "      <td>...</td>\n",
       "      <td>...</td>\n",
       "      <td>...</td>\n",
       "      <td>...</td>\n",
       "    </tr>\n",
       "    <tr>\n",
       "      <th>4491023</th>\n",
       "      <td>58220</td>\n",
       "      <td>2009-01-22 10:08:12+00:00</td>\n",
       "      <td>33.833333</td>\n",
       "      <td>35.833333</td>\n",
       "      <td>39753</td>\n",
       "      <td>58220.0</td>\n",
       "      <td>2009-01-23 23:23:27+00:00</td>\n",
       "      <td>33.855255</td>\n",
       "      <td>35.578156</td>\n",
       "      <td>39471.0</td>\n",
       "    </tr>\n",
       "    <tr>\n",
       "      <th>4491024</th>\n",
       "      <td>58220</td>\n",
       "      <td>2009-01-23 23:23:27+00:00</td>\n",
       "      <td>33.855255</td>\n",
       "      <td>35.578156</td>\n",
       "      <td>39471</td>\n",
       "      <td>58220.0</td>\n",
       "      <td>2009-01-23 23:32:07+00:00</td>\n",
       "      <td>33.853611</td>\n",
       "      <td>35.577222</td>\n",
       "      <td>39471.0</td>\n",
       "    </tr>\n",
       "    <tr>\n",
       "      <th>4491025</th>\n",
       "      <td>58220</td>\n",
       "      <td>2009-01-23 23:32:07+00:00</td>\n",
       "      <td>33.853611</td>\n",
       "      <td>35.577222</td>\n",
       "      <td>39471</td>\n",
       "      <td>58220.0</td>\n",
       "      <td>2009-01-23 23:32:26+00:00</td>\n",
       "      <td>33.853611</td>\n",
       "      <td>35.577222</td>\n",
       "      <td>39471.0</td>\n",
       "    </tr>\n",
       "    <tr>\n",
       "      <th>4491026</th>\n",
       "      <td>58220</td>\n",
       "      <td>2009-01-23 23:32:26+00:00</td>\n",
       "      <td>33.853611</td>\n",
       "      <td>35.577222</td>\n",
       "      <td>39471</td>\n",
       "      <td>58220.0</td>\n",
       "      <td>2009-01-29 09:19:17+00:00</td>\n",
       "      <td>33.853611</td>\n",
       "      <td>35.577222</td>\n",
       "      <td>39471.0</td>\n",
       "    </tr>\n",
       "    <tr>\n",
       "      <th>4491027</th>\n",
       "      <td>58220</td>\n",
       "      <td>2009-01-29 09:19:17+00:00</td>\n",
       "      <td>33.853611</td>\n",
       "      <td>35.577222</td>\n",
       "      <td>39471</td>\n",
       "      <td>58220.0</td>\n",
       "      <td>2009-02-07 10:58:06+00:00</td>\n",
       "      <td>33.853611</td>\n",
       "      <td>35.577222</td>\n",
       "      <td>39471.0</td>\n",
       "    </tr>\n",
       "  </tbody>\n",
       "</table>\n",
       "<p>4440349 rows × 10 columns</p>\n",
       "</div>"
      ],
      "text/plain": [
       "         user_start        checkin_time_start  latitude_start  \\\n",
       "0                 0 2009-05-25 20:56:10+00:00       37.774929   \n",
       "1                 0 2009-05-25 21:35:28+00:00       37.600747   \n",
       "2                 0 2009-05-25 21:37:44+00:00       37.600747   \n",
       "3                 0 2009-05-25 21:42:47+00:00       37.600747   \n",
       "4                 0 2009-05-25 22:13:23+00:00       37.615223   \n",
       "...             ...                       ...             ...   \n",
       "4491023       58220 2009-01-22 10:08:12+00:00       33.833333   \n",
       "4491024       58220 2009-01-23 23:23:27+00:00       33.855255   \n",
       "4491025       58220 2009-01-23 23:32:07+00:00       33.853611   \n",
       "4491026       58220 2009-01-23 23:32:26+00:00       33.853611   \n",
       "4491027       58220 2009-01-29 09:19:17+00:00       33.853611   \n",
       "\n",
       "         longitude_start  cell_number_start  user_end  \\\n",
       "0            -122.419415              34285       0.0   \n",
       "1            -122.382376              34813       0.0   \n",
       "2            -122.382376              34813       0.0   \n",
       "3            -122.382376              34813       0.0   \n",
       "4            -122.389979              34813       0.0   \n",
       "...                  ...                ...       ...   \n",
       "4491023        35.833333              39753   58220.0   \n",
       "4491024        35.578156              39471   58220.0   \n",
       "4491025        35.577222              39471   58220.0   \n",
       "4491026        35.577222              39471   58220.0   \n",
       "4491027        35.577222              39471   58220.0   \n",
       "\n",
       "                 checkin_time_end  latitude_end  longitude_end  \\\n",
       "0       2009-05-25 21:35:28+00:00     37.600747    -122.382376   \n",
       "1       2009-05-25 21:37:44+00:00     37.600747    -122.382376   \n",
       "2       2009-05-25 21:42:47+00:00     37.600747    -122.382376   \n",
       "3       2009-05-25 22:13:23+00:00     37.615223    -122.389979   \n",
       "4       2009-05-26 02:21:12+00:00     39.878664    -104.682105   \n",
       "...                           ...           ...            ...   \n",
       "4491023 2009-01-23 23:23:27+00:00     33.855255      35.578156   \n",
       "4491024 2009-01-23 23:32:07+00:00     33.853611      35.577222   \n",
       "4491025 2009-01-23 23:32:26+00:00     33.853611      35.577222   \n",
       "4491026 2009-01-29 09:19:17+00:00     33.853611      35.577222   \n",
       "4491027 2009-02-07 10:58:06+00:00     33.853611      35.577222   \n",
       "\n",
       "         cell_number_end  \n",
       "0                34813.0  \n",
       "1                34813.0  \n",
       "2                34813.0  \n",
       "3                34813.0  \n",
       "4                16113.0  \n",
       "...                  ...  \n",
       "4491023          39471.0  \n",
       "4491024          39471.0  \n",
       "4491025          39471.0  \n",
       "4491026          39471.0  \n",
       "4491027          39471.0  \n",
       "\n",
       "[4440349 rows x 10 columns]"
      ]
     },
     "execution_count": 82,
     "metadata": {},
     "output_type": "execute_result"
    }
   ],
   "source": [
    "long_distance_travel_b"
   ]
  },
  {
   "cell_type": "markdown",
   "metadata": {},
   "source": [
    "The formulas for the function below are from [stackoverflow](https://stackoverflow.com/questions/19412462/getting-distance-between-two-points-based-on-latitude-longitude)."
   ]
  },
  {
   "cell_type": "code",
   "execution_count": 107,
   "metadata": {},
   "outputs": [],
   "source": [
    "@njit\n",
    "def distance_between_two_coordinates(\n",
    "    lat1_degrees, lon1_degrees, lat2_degrees, lon2_degrees\n",
    "):\n",
    "    \"\"\"\n",
    "    Distance in km between two points given in coordinates.\n",
    "\n",
    "    Arguments\n",
    "    =========\n",
    "    lat1_degrees : float\n",
    "        latitude of the first point in degrees.\n",
    "    lon1_degrees : float\n",
    "        longitude of the first point in degrees.\n",
    "    lat2_degrees : float\n",
    "        latitude of the second point in degrees.\n",
    "    lon2_degrees : float\n",
    "        longitude of the second point in degrees.\n",
    "\n",
    "    Returns\n",
    "    =======\n",
    "    distance : float\n",
    "        distance in km between the two coordiantes.\n",
    "    \"\"\"\n",
    "\n",
    "    # approximate radius of earth in km\n",
    "    R = 6373.0\n",
    "\n",
    "    lat1 = np.deg2rad(lat1_degrees)\n",
    "    lon1 = np.deg2rad(lon1_degrees)\n",
    "    lat2 = np.deg2rad(lat2_degrees)\n",
    "    lon2 = np.deg2rad(lon2_degrees)\n",
    "\n",
    "    dlon = lon2 - lon1\n",
    "    dlat = lat2 - lat1\n",
    "\n",
    "    a = np.sin(dlat / 2) ** 2 + np.cos(lat1) * np.cos(lat2) * np.sin(dlon / 2) ** 2\n",
    "    c = 2 * np.arctan2(np.sqrt(a), np.sqrt(1 - a))\n",
    "\n",
    "    distance = R * c\n",
    "\n",
    "    return distance"
   ]
  },
  {
   "cell_type": "code",
   "execution_count": 111,
   "metadata": {},
   "outputs": [],
   "source": [
    "long_distance_travel_b[\"distance\"] = distance_between_two_coordinates(\n",
    "    long_distance_travel_b.latitude_start.values,\n",
    "    long_distance_travel_b.longitude_start.values,\n",
    "    long_distance_travel_b.latitude_end.values,\n",
    "    long_distance_travel_b.longitude_end.values,\n",
    ")\n",
    "\n",
    "long_distance_travel_g[\"distance\"] = distance_between_two_coordinates(\n",
    "    long_distance_travel_g.latitude_start.values,\n",
    "    long_distance_travel_g.longitude_start.values,\n",
    "    long_distance_travel_g.latitude_end.values,\n",
    "    long_distance_travel_g.longitude_end.values,\n",
    ")"
   ]
  },
  {
   "cell_type": "code",
   "execution_count": 2,
   "metadata": {},
   "outputs": [],
   "source": [
    "long_distance_travel_b = long_distance_travel_b[long_distance_travel_b.distance >= 500]\n",
    "long_distance_travel_g = long_distance_travel_g[long_distance_travel_g.distance >= 500]"
   ]
  },
  {
   "cell_type": "code",
   "execution_count": 123,
   "metadata": {},
   "outputs": [
    {
     "data": {
      "text/html": [
       "<div>\n",
       "<style scoped>\n",
       "    .dataframe tbody tr th:only-of-type {\n",
       "        vertical-align: middle;\n",
       "    }\n",
       "\n",
       "    .dataframe tbody tr th {\n",
       "        vertical-align: top;\n",
       "    }\n",
       "\n",
       "    .dataframe thead th {\n",
       "        text-align: right;\n",
       "    }\n",
       "</style>\n",
       "<table border=\"1\" class=\"dataframe\">\n",
       "  <thead>\n",
       "    <tr style=\"text-align: right;\">\n",
       "      <th></th>\n",
       "      <th>user_start</th>\n",
       "      <th>checkin_time_start</th>\n",
       "      <th>latitude_start</th>\n",
       "      <th>longitude_start</th>\n",
       "      <th>cell_number_start</th>\n",
       "      <th>user_end</th>\n",
       "      <th>checkin_time_end</th>\n",
       "      <th>latitude_end</th>\n",
       "      <th>longitude_end</th>\n",
       "      <th>cell_number_end</th>\n",
       "      <th>distance</th>\n",
       "    </tr>\n",
       "  </thead>\n",
       "  <tbody>\n",
       "    <tr>\n",
       "      <th>4025094</th>\n",
       "      <td>34233</td>\n",
       "      <td>2009-05-30 20:55:42+00:00</td>\n",
       "      <td>40.714269</td>\n",
       "      <td>-74.005973</td>\n",
       "      <td>2165</td>\n",
       "      <td>34233.0</td>\n",
       "      <td>2009-05-31 17:57:53+00:00</td>\n",
       "      <td>40.760779</td>\n",
       "      <td>-111.891047</td>\n",
       "      <td>19125.0</td>\n",
       "      <td>3167.599933</td>\n",
       "    </tr>\n",
       "    <tr>\n",
       "      <th>1928631</th>\n",
       "      <td>7648</td>\n",
       "      <td>2009-10-13 05:57:35+00:00</td>\n",
       "      <td>38.284431</td>\n",
       "      <td>-0.557602</td>\n",
       "      <td>14026</td>\n",
       "      <td>7648.0</td>\n",
       "      <td>2009-10-13 07:44:38+00:00</td>\n",
       "      <td>42.883514</td>\n",
       "      <td>-2.729923</td>\n",
       "      <td>16281.0</td>\n",
       "      <td>543.417881</td>\n",
       "    </tr>\n",
       "    <tr>\n",
       "      <th>771506</th>\n",
       "      <td>2175</td>\n",
       "      <td>2010-09-21 02:37:35+00:00</td>\n",
       "      <td>35.697822</td>\n",
       "      <td>139.774251</td>\n",
       "      <td>219958</td>\n",
       "      <td>2175.0</td>\n",
       "      <td>2010-09-26 20:16:52+00:00</td>\n",
       "      <td>1.356800</td>\n",
       "      <td>103.989100</td>\n",
       "      <td>110208.0</td>\n",
       "      <td>5310.727443</td>\n",
       "    </tr>\n",
       "    <tr>\n",
       "      <th>3324717</th>\n",
       "      <td>18344</td>\n",
       "      <td>2009-08-29 00:51:10+00:00</td>\n",
       "      <td>38.329410</td>\n",
       "      <td>-76.464050</td>\n",
       "      <td>4583</td>\n",
       "      <td>18344.0</td>\n",
       "      <td>2009-09-09 05:50:22+00:00</td>\n",
       "      <td>39.533449</td>\n",
       "      <td>-119.757987</td>\n",
       "      <td>27791.0</td>\n",
       "      <td>3711.909232</td>\n",
       "    </tr>\n",
       "    <tr>\n",
       "      <th>2777313</th>\n",
       "      <td>12265</td>\n",
       "      <td>2008-06-04 00:16:31+00:00</td>\n",
       "      <td>40.714269</td>\n",
       "      <td>-74.005973</td>\n",
       "      <td>2165</td>\n",
       "      <td>12265.0</td>\n",
       "      <td>2008-06-04 22:07:53+00:00</td>\n",
       "      <td>39.099727</td>\n",
       "      <td>-94.578567</td>\n",
       "      <td>11608.0</td>\n",
       "      <td>1760.409880</td>\n",
       "    </tr>\n",
       "  </tbody>\n",
       "</table>\n",
       "</div>"
      ],
      "text/plain": [
       "         user_start        checkin_time_start  latitude_start  \\\n",
       "4025094       34233 2009-05-30 20:55:42+00:00       40.714269   \n",
       "1928631        7648 2009-10-13 05:57:35+00:00       38.284431   \n",
       "771506         2175 2010-09-21 02:37:35+00:00       35.697822   \n",
       "3324717       18344 2009-08-29 00:51:10+00:00       38.329410   \n",
       "2777313       12265 2008-06-04 00:16:31+00:00       40.714269   \n",
       "\n",
       "         longitude_start  cell_number_start  user_end  \\\n",
       "4025094       -74.005973               2165   34233.0   \n",
       "1928631        -0.557602              14026    7648.0   \n",
       "771506        139.774251             219958    2175.0   \n",
       "3324717       -76.464050               4583   18344.0   \n",
       "2777313       -74.005973               2165   12265.0   \n",
       "\n",
       "                 checkin_time_end  latitude_end  longitude_end  \\\n",
       "4025094 2009-05-31 17:57:53+00:00     40.760779    -111.891047   \n",
       "1928631 2009-10-13 07:44:38+00:00     42.883514      -2.729923   \n",
       "771506  2010-09-26 20:16:52+00:00      1.356800     103.989100   \n",
       "3324717 2009-09-09 05:50:22+00:00     39.533449    -119.757987   \n",
       "2777313 2008-06-04 22:07:53+00:00     39.099727     -94.578567   \n",
       "\n",
       "         cell_number_end     distance  \n",
       "4025094          19125.0  3167.599933  \n",
       "1928631          16281.0   543.417881  \n",
       "771506          110208.0  5310.727443  \n",
       "3324717          27791.0  3711.909232  \n",
       "2777313          11608.0  1760.409880  "
      ]
     },
     "execution_count": 123,
     "metadata": {},
     "output_type": "execute_result"
    }
   ],
   "source": [
    "long_distance_travel_b.sample(5)"
   ]
  },
  {
   "cell_type": "markdown",
   "metadata": {},
   "source": [
    "## Research Questions"
   ]
  },
  {
   "cell_type": "markdown",
   "metadata": {},
   "source": [
    "### Which countries travel the most long distance by plane?"
   ]
  },
  {
   "cell_type": "markdown",
   "metadata": {},
   "source": [
    "### Where do people from different countries travel to the most?"
   ]
  },
  {
   "cell_type": "markdown",
   "metadata": {},
   "source": [
    "### Check if it is possible to predict user home areas based on their long distance travel patterns?"
   ]
  },
  {
   "cell_type": "code",
   "execution_count": null,
   "metadata": {},
   "outputs": [],
   "source": []
  }
 ],
 "metadata": {
  "kernelspec": {
   "display_name": "Python 3",
   "language": "python",
   "name": "python3"
  },
  "language_info": {
   "codemirror_mode": {
    "name": "ipython",
    "version": 3
   },
   "file_extension": ".py",
   "mimetype": "text/x-python",
   "name": "python",
   "nbconvert_exporter": "python",
   "pygments_lexer": "ipython3",
   "version": "3.8.5"
  }
 },
 "nbformat": 4,
 "nbformat_minor": 4
}
