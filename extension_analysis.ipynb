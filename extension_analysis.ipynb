{
 "cells": [
  {
   "cell_type": "markdown",
   "metadata": {},
   "source": [
    "# Creative Extension Analysis"
   ]
  },
  {
   "cell_type": "markdown",
   "metadata": {},
   "source": [
    "## Tools"
   ]
  },
  {
   "cell_type": "code",
   "execution_count": 1,
   "metadata": {},
   "outputs": [],
   "source": [
    "import networkx as nx\n",
    "import pandas as pd\n",
    "import numpy as np\n",
    "import matplotlib.pyplot as plt\n",
    "import math\n",
    "from numba import njit\n",
    "import itertools\n",
    "\n",
    "\n",
    "import geopandas as gpd\n",
    "from geopy import distance\n",
    "from shapely.geometry import Point\n",
    "from haversine import haversine"
   ]
  },
  {
   "cell_type": "markdown",
   "metadata": {},
   "source": [
    "## Collect and Work on Data"
   ]
  },
  {
   "cell_type": "code",
   "execution_count": 2,
   "metadata": {},
   "outputs": [],
   "source": [
    "g_b = nx.read_edgelist(\"data/Brightkite_edges.txt\",create_using=nx.Graph(), nodetype = int)\n",
    "g_g = nx.read_edgelist(\"data/Gowalla_edges.txt\",create_using=nx.Graph(), nodetype = int)"
   ]
  },
  {
   "cell_type": "code",
   "execution_count": 3,
   "metadata": {},
   "outputs": [
    {
     "name": "stdout",
     "output_type": "stream",
     "text": [
      "Brightkite network has 58228 nodes and 214078 edges\n",
      "Gowalla network has 196591 nodes and 950327 edges\n"
     ]
    }
   ],
   "source": [
    "print(\"Brightkite network has {} nodes and {} edges\".format(len(g_b.nodes()), len(g_b.edges())))\n",
    "print(\"Gowalla network has {} nodes and {} edges\".format(len(g_g.nodes()), len(g_g.edges())))"
   ]
  },
  {
   "cell_type": "code",
   "execution_count": 4,
   "metadata": {},
   "outputs": [],
   "source": [
    "checkins_b = pd.read_csv(\"data/Brightkite_totalCheckins.txt\", delimiter='\\t', names=[\"user\", \"checkin_time\", \"latitude\", \"longitude\", \"location_id\"])\n",
    "checkins_g = pd.read_csv(\"data/Gowalla_totalCheckins.txt\", delimiter='\\t', names=[\"user\", \"checkin_time\", \"latitude\", \"longitude\", \"location_id\"])"
   ]
  },
  {
   "cell_type": "code",
   "execution_count": 5,
   "metadata": {},
   "outputs": [
    {
     "data": {
      "text/html": [
       "<div>\n",
       "<style scoped>\n",
       "    .dataframe tbody tr th:only-of-type {\n",
       "        vertical-align: middle;\n",
       "    }\n",
       "\n",
       "    .dataframe tbody tr th {\n",
       "        vertical-align: top;\n",
       "    }\n",
       "\n",
       "    .dataframe thead th {\n",
       "        text-align: right;\n",
       "    }\n",
       "</style>\n",
       "<table border=\"1\" class=\"dataframe\">\n",
       "  <thead>\n",
       "    <tr style=\"text-align: right;\">\n",
       "      <th></th>\n",
       "      <th>user</th>\n",
       "      <th>checkin_time</th>\n",
       "      <th>latitude</th>\n",
       "      <th>longitude</th>\n",
       "      <th>location_id</th>\n",
       "    </tr>\n",
       "  </thead>\n",
       "  <tbody>\n",
       "    <tr>\n",
       "      <th>0</th>\n",
       "      <td>0</td>\n",
       "      <td>2010-10-17T01:48:53Z</td>\n",
       "      <td>39.747652</td>\n",
       "      <td>-104.992510</td>\n",
       "      <td>88c46bf20db295831bd2d1718ad7e6f5</td>\n",
       "    </tr>\n",
       "    <tr>\n",
       "      <th>1</th>\n",
       "      <td>0</td>\n",
       "      <td>2010-10-16T06:02:04Z</td>\n",
       "      <td>39.891383</td>\n",
       "      <td>-105.070814</td>\n",
       "      <td>7a0f88982aa015062b95e3b4843f9ca2</td>\n",
       "    </tr>\n",
       "    <tr>\n",
       "      <th>2</th>\n",
       "      <td>0</td>\n",
       "      <td>2010-10-16T03:48:54Z</td>\n",
       "      <td>39.891077</td>\n",
       "      <td>-105.068532</td>\n",
       "      <td>dd7cd3d264c2d063832db506fba8bf79</td>\n",
       "    </tr>\n",
       "    <tr>\n",
       "      <th>3</th>\n",
       "      <td>0</td>\n",
       "      <td>2010-10-14T18:25:51Z</td>\n",
       "      <td>39.750469</td>\n",
       "      <td>-104.999073</td>\n",
       "      <td>9848afcc62e500a01cf6fbf24b797732f8963683</td>\n",
       "    </tr>\n",
       "    <tr>\n",
       "      <th>4</th>\n",
       "      <td>0</td>\n",
       "      <td>2010-10-14T00:21:47Z</td>\n",
       "      <td>39.752713</td>\n",
       "      <td>-104.996337</td>\n",
       "      <td>2ef143e12038c870038df53e0478cefc</td>\n",
       "    </tr>\n",
       "  </tbody>\n",
       "</table>\n",
       "</div>"
      ],
      "text/plain": [
       "   user          checkin_time   latitude   longitude  \\\n",
       "0     0  2010-10-17T01:48:53Z  39.747652 -104.992510   \n",
       "1     0  2010-10-16T06:02:04Z  39.891383 -105.070814   \n",
       "2     0  2010-10-16T03:48:54Z  39.891077 -105.068532   \n",
       "3     0  2010-10-14T18:25:51Z  39.750469 -104.999073   \n",
       "4     0  2010-10-14T00:21:47Z  39.752713 -104.996337   \n",
       "\n",
       "                                location_id  \n",
       "0          88c46bf20db295831bd2d1718ad7e6f5  \n",
       "1          7a0f88982aa015062b95e3b4843f9ca2  \n",
       "2          dd7cd3d264c2d063832db506fba8bf79  \n",
       "3  9848afcc62e500a01cf6fbf24b797732f8963683  \n",
       "4          2ef143e12038c870038df53e0478cefc  "
      ]
     },
     "execution_count": 5,
     "metadata": {},
     "output_type": "execute_result"
    }
   ],
   "source": [
    "checkins_b.head()"
   ]
  },
  {
   "cell_type": "code",
   "execution_count": 6,
   "metadata": {},
   "outputs": [
    {
     "name": "stdout",
     "output_type": "stream",
     "text": [
      "Brightkite checkins dataset have 4747287 rows\n",
      "Gowalla checkins dataset have 6442892 rows\n"
     ]
    }
   ],
   "source": [
    "print(\"Brightkite checkins dataset have {} rows\".format(len(checkins_b)))\n",
    "print(\"Gowalla checkins dataset have {} rows\".format(len(checkins_g)))"
   ]
  },
  {
   "cell_type": "code",
   "execution_count": 7,
   "metadata": {},
   "outputs": [
    {
     "name": "stdout",
     "output_type": "stream",
     "text": [
      "user            0\n",
      "checkin_time    6\n",
      "latitude        6\n",
      "longitude       6\n",
      "location_id     6\n",
      "dtype: int64\n",
      "\n",
      "user            0\n",
      "checkin_time    0\n",
      "latitude        0\n",
      "longitude       0\n",
      "location_id     0\n",
      "dtype: int64\n"
     ]
    }
   ],
   "source": [
    "print(checkins_b.isna().sum())\n",
    "print()\n",
    "print(checkins_g.isna().sum())"
   ]
  },
  {
   "cell_type": "code",
   "execution_count": 8,
   "metadata": {},
   "outputs": [],
   "source": [
    "checkins_b = checkins_b.dropna()"
   ]
  },
  {
   "cell_type": "code",
   "execution_count": 9,
   "metadata": {},
   "outputs": [],
   "source": [
    "checkins_b[\"checkin_time\"] = pd.to_datetime(checkins_b[\"checkin_time\"], format = \"%Y-%m-%dT%H:%M:%SZ\")\n",
    "checkins_g[\"checkin_time\"] = pd.to_datetime(checkins_g[\"checkin_time\"], format = \"%Y-%m-%dT%H:%M:%SZ\")"
   ]
  },
  {
   "cell_type": "code",
   "execution_count": 10,
   "metadata": {},
   "outputs": [
    {
     "name": "stdout",
     "output_type": "stream",
     "text": [
      "109\n",
      "29\n"
     ]
    }
   ],
   "source": [
    "print(len(checkins_b[((checkins_b[\"longitude\"] < -180) | (checkins_b[\"longitude\"] > 180)) | ((checkins_b[\"latitude\"] < -90) | (checkins_b[\"latitude\"] > 90))]))\n",
    "print(len(checkins_g[((checkins_g[\"longitude\"] < -180) | (checkins_g[\"longitude\"] > 180)) | ((checkins_g[\"latitude\"] < -90) | (checkins_g[\"latitude\"] > 90))]))"
   ]
  },
  {
   "cell_type": "code",
   "execution_count": 11,
   "metadata": {},
   "outputs": [],
   "source": [
    "to_remove_b = checkins_b[((checkins_b[\"longitude\"] < -180) | (checkins_b[\"longitude\"] > 180)) | ((checkins_b[\"latitude\"] < -90) | (checkins_b[\"latitude\"] > 90))]\n",
    "to_remove_g = checkins_g[((checkins_g[\"longitude\"] < -180) | (checkins_g[\"longitude\"] > 180)) | ((checkins_g[\"latitude\"] < -90) | (checkins_g[\"latitude\"] > 90))]\n",
    "\n",
    "checkins_b = checkins_b.drop(to_remove_b.index)\n",
    "checkins_g = checkins_g.drop(to_remove_g.index)"
   ]
  },
  {
   "cell_type": "code",
   "execution_count": 12,
   "metadata": {},
   "outputs": [
    {
     "data": {
      "text/html": [
       "<div>\n",
       "<style scoped>\n",
       "    .dataframe tbody tr th:only-of-type {\n",
       "        vertical-align: middle;\n",
       "    }\n",
       "\n",
       "    .dataframe tbody tr th {\n",
       "        vertical-align: top;\n",
       "    }\n",
       "\n",
       "    .dataframe thead th {\n",
       "        text-align: right;\n",
       "    }\n",
       "</style>\n",
       "<table border=\"1\" class=\"dataframe\">\n",
       "  <thead>\n",
       "    <tr style=\"text-align: right;\">\n",
       "      <th></th>\n",
       "      <th>user</th>\n",
       "      <th>checkin_time</th>\n",
       "      <th>latitude</th>\n",
       "      <th>longitude</th>\n",
       "      <th>location_id</th>\n",
       "    </tr>\n",
       "  </thead>\n",
       "  <tbody>\n",
       "    <tr>\n",
       "      <th>0</th>\n",
       "      <td>0</td>\n",
       "      <td>2010-10-17 01:48:53</td>\n",
       "      <td>39.747652</td>\n",
       "      <td>-104.992510</td>\n",
       "      <td>88c46bf20db295831bd2d1718ad7e6f5</td>\n",
       "    </tr>\n",
       "    <tr>\n",
       "      <th>1</th>\n",
       "      <td>0</td>\n",
       "      <td>2010-10-16 06:02:04</td>\n",
       "      <td>39.891383</td>\n",
       "      <td>-105.070814</td>\n",
       "      <td>7a0f88982aa015062b95e3b4843f9ca2</td>\n",
       "    </tr>\n",
       "    <tr>\n",
       "      <th>2</th>\n",
       "      <td>0</td>\n",
       "      <td>2010-10-16 03:48:54</td>\n",
       "      <td>39.891077</td>\n",
       "      <td>-105.068532</td>\n",
       "      <td>dd7cd3d264c2d063832db506fba8bf79</td>\n",
       "    </tr>\n",
       "    <tr>\n",
       "      <th>3</th>\n",
       "      <td>0</td>\n",
       "      <td>2010-10-14 18:25:51</td>\n",
       "      <td>39.750469</td>\n",
       "      <td>-104.999073</td>\n",
       "      <td>9848afcc62e500a01cf6fbf24b797732f8963683</td>\n",
       "    </tr>\n",
       "    <tr>\n",
       "      <th>4</th>\n",
       "      <td>0</td>\n",
       "      <td>2010-10-14 00:21:47</td>\n",
       "      <td>39.752713</td>\n",
       "      <td>-104.996337</td>\n",
       "      <td>2ef143e12038c870038df53e0478cefc</td>\n",
       "    </tr>\n",
       "  </tbody>\n",
       "</table>\n",
       "</div>"
      ],
      "text/plain": [
       "   user        checkin_time   latitude   longitude  \\\n",
       "0     0 2010-10-17 01:48:53  39.747652 -104.992510   \n",
       "1     0 2010-10-16 06:02:04  39.891383 -105.070814   \n",
       "2     0 2010-10-16 03:48:54  39.891077 -105.068532   \n",
       "3     0 2010-10-14 18:25:51  39.750469 -104.999073   \n",
       "4     0 2010-10-14 00:21:47  39.752713 -104.996337   \n",
       "\n",
       "                                location_id  \n",
       "0          88c46bf20db295831bd2d1718ad7e6f5  \n",
       "1          7a0f88982aa015062b95e3b4843f9ca2  \n",
       "2          dd7cd3d264c2d063832db506fba8bf79  \n",
       "3  9848afcc62e500a01cf6fbf24b797732f8963683  \n",
       "4          2ef143e12038c870038df53e0478cefc  "
      ]
     },
     "execution_count": 12,
     "metadata": {},
     "output_type": "execute_result"
    }
   ],
   "source": [
    "checkins_b.head()"
   ]
  },
  {
   "cell_type": "code",
   "execution_count": 13,
   "metadata": {},
   "outputs": [],
   "source": [
    "checkins_b['month'] = checkins_b['checkin_time'].apply(lambda x: x.month)\n",
    "checkins_b['day'] = checkins_b['checkin_time'].apply(lambda x: x.day)\n",
    "checkins_b['hour'] = checkins_b['checkin_time'].apply(lambda x: x.hour)\n",
    "checkins_b['minute'] = checkins_b['checkin_time'].apply(lambda x: x.minute)"
   ]
  },
  {
   "cell_type": "code",
   "execution_count": 14,
   "metadata": {},
   "outputs": [],
   "source": [
    "checkins_b = checkins_b.drop(columns=['location_id', 'checkin_time'])"
   ]
  },
  {
   "cell_type": "code",
   "execution_count": 15,
   "metadata": {},
   "outputs": [
    {
     "data": {
      "text/html": [
       "<div>\n",
       "<style scoped>\n",
       "    .dataframe tbody tr th:only-of-type {\n",
       "        vertical-align: middle;\n",
       "    }\n",
       "\n",
       "    .dataframe tbody tr th {\n",
       "        vertical-align: top;\n",
       "    }\n",
       "\n",
       "    .dataframe thead th {\n",
       "        text-align: right;\n",
       "    }\n",
       "</style>\n",
       "<table border=\"1\" class=\"dataframe\">\n",
       "  <thead>\n",
       "    <tr style=\"text-align: right;\">\n",
       "      <th></th>\n",
       "      <th>user</th>\n",
       "      <th>latitude</th>\n",
       "      <th>longitude</th>\n",
       "      <th>month</th>\n",
       "      <th>day</th>\n",
       "      <th>hour</th>\n",
       "      <th>minute</th>\n",
       "    </tr>\n",
       "  </thead>\n",
       "  <tbody>\n",
       "    <tr>\n",
       "      <th>0</th>\n",
       "      <td>0</td>\n",
       "      <td>39.747652</td>\n",
       "      <td>-104.992510</td>\n",
       "      <td>10</td>\n",
       "      <td>17</td>\n",
       "      <td>1</td>\n",
       "      <td>48</td>\n",
       "    </tr>\n",
       "    <tr>\n",
       "      <th>1</th>\n",
       "      <td>0</td>\n",
       "      <td>39.891383</td>\n",
       "      <td>-105.070814</td>\n",
       "      <td>10</td>\n",
       "      <td>16</td>\n",
       "      <td>6</td>\n",
       "      <td>2</td>\n",
       "    </tr>\n",
       "    <tr>\n",
       "      <th>2</th>\n",
       "      <td>0</td>\n",
       "      <td>39.891077</td>\n",
       "      <td>-105.068532</td>\n",
       "      <td>10</td>\n",
       "      <td>16</td>\n",
       "      <td>3</td>\n",
       "      <td>48</td>\n",
       "    </tr>\n",
       "    <tr>\n",
       "      <th>3</th>\n",
       "      <td>0</td>\n",
       "      <td>39.750469</td>\n",
       "      <td>-104.999073</td>\n",
       "      <td>10</td>\n",
       "      <td>14</td>\n",
       "      <td>18</td>\n",
       "      <td>25</td>\n",
       "    </tr>\n",
       "    <tr>\n",
       "      <th>4</th>\n",
       "      <td>0</td>\n",
       "      <td>39.752713</td>\n",
       "      <td>-104.996337</td>\n",
       "      <td>10</td>\n",
       "      <td>14</td>\n",
       "      <td>0</td>\n",
       "      <td>21</td>\n",
       "    </tr>\n",
       "  </tbody>\n",
       "</table>\n",
       "</div>"
      ],
      "text/plain": [
       "   user   latitude   longitude  month  day  hour  minute\n",
       "0     0  39.747652 -104.992510     10   17     1      48\n",
       "1     0  39.891383 -105.070814     10   16     6       2\n",
       "2     0  39.891077 -105.068532     10   16     3      48\n",
       "3     0  39.750469 -104.999073     10   14    18      25\n",
       "4     0  39.752713 -104.996337     10   14     0      21"
      ]
     },
     "execution_count": 15,
     "metadata": {},
     "output_type": "execute_result"
    }
   ],
   "source": [
    "checkins_b.head()"
   ]
  },
  {
   "cell_type": "markdown",
   "metadata": {},
   "source": [
    "## Exploratory Data Analysis"
   ]
  },
  {
   "cell_type": "code",
   "execution_count": null,
   "metadata": {},
   "outputs": [],
   "source": []
  },
  {
   "cell_type": "markdown",
   "metadata": {},
   "source": [
    "## Research Questions"
   ]
  },
  {
   "cell_type": "markdown",
   "metadata": {},
   "source": [
    "### Which countries travel the most long distance by plane?"
   ]
  },
  {
   "cell_type": "code",
   "execution_count": 18,
   "metadata": {},
   "outputs": [],
   "source": [
    "copy_checkins_b = checkins_b.copy()"
   ]
  },
  {
   "cell_type": "code",
   "execution_count": 17,
   "metadata": {},
   "outputs": [],
   "source": [
    "\"\"\"\n",
    "Assign a cell_number based on the cantor pairing function and discretization into 25km * 25km cells.\n",
    "\"\"\"\n",
    "@njit\n",
    "def assign_cell(lat, lon):\n",
    "    lon_km = 111.320 * np.cos(np.deg2rad(lat)) * lon\n",
    "    lat_km = 110.574 * lat\n",
    "    #assign to intervals using the cantor pair function\n",
    "    lat_km, lon_km = lat_km // 25, lon_km // 25 #now lat_km and lon_km contains the quotient from the division by 25.\n",
    "    return (1/2)*(lat_km + lon_km)*(lat_km + lon_km + 1) + lon_km"
   ]
  },
  {
   "cell_type": "code",
   "execution_count": 20,
   "metadata": {},
   "outputs": [],
   "source": [
    "copy_checkins_b[\"cell_number\"] = assign_cell(copy_checkins_b[\"latitude\"].values, copy_checkins_b[\"longitude\"].values)\n",
    "copy_checkins_b[\"cell_number\"] = copy_checkins_b[\"cell_number\"].astype('int')"
   ]
  },
  {
   "cell_type": "code",
   "execution_count": 23,
   "metadata": {},
   "outputs": [
    {
     "data": {
      "text/html": [
       "<div>\n",
       "<style scoped>\n",
       "    .dataframe tbody tr th:only-of-type {\n",
       "        vertical-align: middle;\n",
       "    }\n",
       "\n",
       "    .dataframe tbody tr th {\n",
       "        vertical-align: top;\n",
       "    }\n",
       "\n",
       "    .dataframe thead th {\n",
       "        text-align: right;\n",
       "    }\n",
       "</style>\n",
       "<table border=\"1\" class=\"dataframe\">\n",
       "  <thead>\n",
       "    <tr style=\"text-align: right;\">\n",
       "      <th></th>\n",
       "      <th>cell_number</th>\n",
       "      <th>latitude</th>\n",
       "      <th>longitude</th>\n",
       "    </tr>\n",
       "  </thead>\n",
       "  <tbody>\n",
       "    <tr>\n",
       "      <th>0</th>\n",
       "      <td>-286</td>\n",
       "      <td>64.545703</td>\n",
       "      <td>-149.087119</td>\n",
       "    </tr>\n",
       "    <tr>\n",
       "      <th>1</th>\n",
       "      <td>-284</td>\n",
       "      <td>64.152500</td>\n",
       "      <td>-145.842222</td>\n",
       "    </tr>\n",
       "    <tr>\n",
       "      <th>2</th>\n",
       "      <td>-282</td>\n",
       "      <td>63.562699</td>\n",
       "      <td>-142.300615</td>\n",
       "    </tr>\n",
       "    <tr>\n",
       "      <th>3</th>\n",
       "      <td>-280</td>\n",
       "      <td>63.934833</td>\n",
       "      <td>-145.788211</td>\n",
       "    </tr>\n",
       "    <tr>\n",
       "      <th>4</th>\n",
       "      <td>-279</td>\n",
       "      <td>63.661389</td>\n",
       "      <td>-144.064444</td>\n",
       "    </tr>\n",
       "  </tbody>\n",
       "</table>\n",
       "</div>"
      ],
      "text/plain": [
       "   cell_number   latitude   longitude\n",
       "0         -286  64.545703 -149.087119\n",
       "1         -284  64.152500 -145.842222\n",
       "2         -282  63.562699 -142.300615\n",
       "3         -280  63.934833 -145.788211\n",
       "4         -279  63.661389 -144.064444"
      ]
     },
     "execution_count": 23,
     "metadata": {},
     "output_type": "execute_result"
    }
   ],
   "source": [
    "center_cells_b = copy_checkins_b[['latitude', 'longitude', 'cell_number']].groupby('cell_number').mean()\n",
    "center_cells_b = center_cells_b.reset_index()\n",
    "center_cells_b.head()"
   ]
  },
  {
   "cell_type": "markdown",
   "metadata": {},
   "source": [
    "Now we work on the home: Home is now the center of each cell with the most checkins."
   ]
  },
  {
   "cell_type": "code",
   "execution_count": 24,
   "metadata": {},
   "outputs": [
    {
     "data": {
      "text/html": [
       "<div>\n",
       "<style scoped>\n",
       "    .dataframe tbody tr th:only-of-type {\n",
       "        vertical-align: middle;\n",
       "    }\n",
       "\n",
       "    .dataframe tbody tr th {\n",
       "        vertical-align: top;\n",
       "    }\n",
       "\n",
       "    .dataframe thead th {\n",
       "        text-align: right;\n",
       "    }\n",
       "</style>\n",
       "<table border=\"1\" class=\"dataframe\">\n",
       "  <thead>\n",
       "    <tr style=\"text-align: right;\">\n",
       "      <th></th>\n",
       "      <th>user</th>\n",
       "      <th>cell_number</th>\n",
       "    </tr>\n",
       "  </thead>\n",
       "  <tbody>\n",
       "    <tr>\n",
       "      <th>0</th>\n",
       "      <td>0</td>\n",
       "      <td>16660</td>\n",
       "    </tr>\n",
       "    <tr>\n",
       "      <th>1</th>\n",
       "      <td>1</td>\n",
       "      <td>34813</td>\n",
       "    </tr>\n",
       "    <tr>\n",
       "      <th>2</th>\n",
       "      <td>2</td>\n",
       "      <td>16660</td>\n",
       "    </tr>\n",
       "    <tr>\n",
       "      <th>3</th>\n",
       "      <td>3</td>\n",
       "      <td>34813</td>\n",
       "    </tr>\n",
       "    <tr>\n",
       "      <th>4</th>\n",
       "      <td>4</td>\n",
       "      <td>51736</td>\n",
       "    </tr>\n",
       "  </tbody>\n",
       "</table>\n",
       "</div>"
      ],
      "text/plain": [
       "   user  cell_number\n",
       "0     0        16660\n",
       "1     1        34813\n",
       "2     2        16660\n",
       "3     3        34813\n",
       "4     4        51736"
      ]
     },
     "execution_count": 24,
     "metadata": {},
     "output_type": "execute_result"
    }
   ],
   "source": [
    "user_cell_b = copy_checkins_b.groupby([\"user\", \"cell_number\"]).count()\n",
    "user_cell_b = user_cell_b.drop(columns = [\"month\", 'day', 'hour', \"latitude\", \"longitude\"]) #We don't need them anymore\\n\",\n",
    "user_cell_b.columns = [\"count\"] #rename the column to count\n",
    "user_cell_b = user_cell_b.sort_values(\"count\").groupby(level=0).tail(1).sort_values('user') #Sort by user to have user 0 first\\n\",\n",
    "user_cell_b = user_cell_b.reset_index().drop(columns=[\"count\"]) #Reset the index to break the multiindex and keep only the column cell_number\\n\",\n",
    "\n",
    "user_cell_b.head()"
   ]
  },
  {
   "cell_type": "markdown",
   "metadata": {},
   "source": [
    "Now we can merge the two to have the home for each user as the center of the cell where it has the most checkins."
   ]
  },
  {
   "cell_type": "code",
   "execution_count": 25,
   "metadata": {},
   "outputs": [
    {
     "data": {
      "text/html": [
       "<div>\n",
       "<style scoped>\n",
       "    .dataframe tbody tr th:only-of-type {\n",
       "        vertical-align: middle;\n",
       "    }\n",
       "\n",
       "    .dataframe tbody tr th {\n",
       "        vertical-align: top;\n",
       "    }\n",
       "\n",
       "    .dataframe thead th {\n",
       "        text-align: right;\n",
       "    }\n",
       "</style>\n",
       "<table border=\"1\" class=\"dataframe\">\n",
       "  <thead>\n",
       "    <tr style=\"text-align: right;\">\n",
       "      <th></th>\n",
       "      <th>user</th>\n",
       "      <th>cell_number</th>\n",
       "      <th>latitude</th>\n",
       "      <th>longitude</th>\n",
       "    </tr>\n",
       "  </thead>\n",
       "  <tbody>\n",
       "    <tr>\n",
       "      <th>0</th>\n",
       "      <td>0</td>\n",
       "      <td>16660</td>\n",
       "      <td>39.731991</td>\n",
       "      <td>-104.980205</td>\n",
       "    </tr>\n",
       "    <tr>\n",
       "      <th>1</th>\n",
       "      <td>2</td>\n",
       "      <td>16660</td>\n",
       "      <td>39.731991</td>\n",
       "      <td>-104.980205</td>\n",
       "    </tr>\n",
       "    <tr>\n",
       "      <th>2</th>\n",
       "      <td>8</td>\n",
       "      <td>16660</td>\n",
       "      <td>39.731991</td>\n",
       "      <td>-104.980205</td>\n",
       "    </tr>\n",
       "    <tr>\n",
       "      <th>3</th>\n",
       "      <td>12</td>\n",
       "      <td>16660</td>\n",
       "      <td>39.731991</td>\n",
       "      <td>-104.980205</td>\n",
       "    </tr>\n",
       "    <tr>\n",
       "      <th>4</th>\n",
       "      <td>13</td>\n",
       "      <td>16660</td>\n",
       "      <td>39.731991</td>\n",
       "      <td>-104.980205</td>\n",
       "    </tr>\n",
       "  </tbody>\n",
       "</table>\n",
       "</div>"
      ],
      "text/plain": [
       "   user  cell_number   latitude   longitude\n",
       "0     0        16660  39.731991 -104.980205\n",
       "1     2        16660  39.731991 -104.980205\n",
       "2     8        16660  39.731991 -104.980205\n",
       "3    12        16660  39.731991 -104.980205\n",
       "4    13        16660  39.731991 -104.980205"
      ]
     },
     "execution_count": 25,
     "metadata": {},
     "output_type": "execute_result"
    }
   ],
   "source": [
    "homes_b = user_cell_b.merge(center_cells_b, on='cell_number')\n",
    "homes_b.head()"
   ]
  },
  {
   "cell_type": "markdown",
   "metadata": {},
   "source": [
    "Now for each home, we want to retrieve the country based on its coordinates."
   ]
  },
  {
   "cell_type": "code",
   "execution_count": 26,
   "metadata": {},
   "outputs": [],
   "source": [
    "import reverse_geocoder"
   ]
  },
  {
   "cell_type": "code",
   "execution_count": 27,
   "metadata": {},
   "outputs": [],
   "source": [
    "homes_countries_b = homes_b.copy()"
   ]
  },
  {
   "cell_type": "code",
   "execution_count": 34,
   "metadata": {},
   "outputs": [],
   "source": [
    "def retrieve_country(lat, lon):\n",
    "    return reverse_geocoder.search((lat, lon))[0]['cc']\n",
    "\n",
    "retrieve_country_vec = np.vectorize(retrieve_country)"
   ]
  },
  {
   "cell_type": "code",
   "execution_count": null,
   "metadata": {},
   "outputs": [],
   "source": [
    "homes_countries_b['country'] = retrieve_country_vec(homes_countries_b['latitude'], \n",
    "                                                    homes_countries_b['longitude'])"
   ]
  },
  {
   "cell_type": "code",
   "execution_count": null,
   "metadata": {},
   "outputs": [],
   "source": [
    "homes_countries_b.head()"
   ]
  },
  {
   "cell_type": "markdown",
   "metadata": {},
   "source": [
    "### Where do people from different countries travel to the most?"
   ]
  },
  {
   "cell_type": "markdown",
   "metadata": {},
   "source": [
    "### Check if it is possible to predict user home areas based on their long distance travel patterns?"
   ]
  },
  {
   "cell_type": "code",
   "execution_count": null,
   "metadata": {},
   "outputs": [],
   "source": []
  }
 ],
 "metadata": {
  "kernelspec": {
   "display_name": "Python 3",
   "language": "python",
   "name": "python3"
  },
  "language_info": {
   "codemirror_mode": {
    "name": "ipython",
    "version": 3
   },
   "file_extension": ".py",
   "mimetype": "text/x-python",
   "name": "python",
   "nbconvert_exporter": "python",
   "pygments_lexer": "ipython3",
   "version": "3.8.5"
  }
 },
 "nbformat": 4,
 "nbformat_minor": 4
}
