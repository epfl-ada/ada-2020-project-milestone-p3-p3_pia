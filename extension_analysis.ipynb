{
 "cells": [
  {
   "cell_type": "markdown",
   "metadata": {},
   "source": [
    "# Creative Extension Analysis"
   ]
  },
  {
   "cell_type": "markdown",
   "metadata": {},
   "source": [
    "In this notebook, we propose a creative extension analysis of the paper _Friendship and Mobility: User Movement in Location-Based Social Networks_. We chose to answer multiple research questions by using the same datasets (check-ins) and an additional one (airports). \n",
    "\n",
    "In particular, we aim to find out:\n",
    "- Which countries travel the most long distance by plane?\n",
    "- Where do people from different countries travel to the most?\n",
    "- Where users' friends are based?\n",
    "- Is it possible to predict user home areas based on their long distance travel patterns?"
   ]
  },
  {
   "cell_type": "markdown",
   "metadata": {},
   "source": [
    "## Tools"
   ]
  },
  {
   "cell_type": "code",
   "execution_count": 51,
   "metadata": {},
   "outputs": [],
   "source": [
    "import networkx as nx\n",
    "import pandas as pd\n",
    "import numpy as np\n",
    "import matplotlib.pyplot as plt\n",
    "import math\n",
    "from numba import njit\n",
    "import itertools\n",
    "\n",
    "import reverse_geocoder\n",
    "import pickle"
   ]
  },
  {
   "cell_type": "markdown",
   "metadata": {},
   "source": [
    "## Collect Data"
   ]
  },
  {
   "cell_type": "markdown",
   "metadata": {},
   "source": [
    "We load the check-ins datasets and the new airport dataset."
   ]
  },
  {
   "cell_type": "code",
   "execution_count": 21,
   "metadata": {},
   "outputs": [],
   "source": [
    "checkins_b = pd.read_csv(\"data/Brightkite_totalCheckins.txt\", delimiter='\\t', names=[\"user\", \"checkin_time\", \"latitude\", \"longitude\", \"location_id\"])\n",
    "checkins_g = pd.read_csv(\"data/Gowalla_totalCheckins.txt\", delimiter='\\t', names=[\"user\", \"checkin_time\", \"latitude\", \"longitude\", \"location_id\"])"
   ]
  },
  {
   "cell_type": "code",
   "execution_count": 22,
   "metadata": {},
   "outputs": [],
   "source": [
    "airports = pd.read_csv(\"data/airports.csv\")"
   ]
  },
  {
   "cell_type": "markdown",
   "metadata": {},
   "source": [
    "In the following cells, we will only display dataframes for Brightkite."
   ]
  },
  {
   "cell_type": "code",
   "execution_count": 23,
   "metadata": {},
   "outputs": [
    {
     "data": {
      "text/html": [
       "<div>\n",
       "<style scoped>\n",
       "    .dataframe tbody tr th:only-of-type {\n",
       "        vertical-align: middle;\n",
       "    }\n",
       "\n",
       "    .dataframe tbody tr th {\n",
       "        vertical-align: top;\n",
       "    }\n",
       "\n",
       "    .dataframe thead th {\n",
       "        text-align: right;\n",
       "    }\n",
       "</style>\n",
       "<table border=\"1\" class=\"dataframe\">\n",
       "  <thead>\n",
       "    <tr style=\"text-align: right;\">\n",
       "      <th></th>\n",
       "      <th>user</th>\n",
       "      <th>checkin_time</th>\n",
       "      <th>latitude</th>\n",
       "      <th>longitude</th>\n",
       "      <th>location_id</th>\n",
       "    </tr>\n",
       "  </thead>\n",
       "  <tbody>\n",
       "    <tr>\n",
       "      <th>0</th>\n",
       "      <td>0</td>\n",
       "      <td>2010-10-17T01:48:53Z</td>\n",
       "      <td>39.747652</td>\n",
       "      <td>-104.992510</td>\n",
       "      <td>88c46bf20db295831bd2d1718ad7e6f5</td>\n",
       "    </tr>\n",
       "    <tr>\n",
       "      <th>1</th>\n",
       "      <td>0</td>\n",
       "      <td>2010-10-16T06:02:04Z</td>\n",
       "      <td>39.891383</td>\n",
       "      <td>-105.070814</td>\n",
       "      <td>7a0f88982aa015062b95e3b4843f9ca2</td>\n",
       "    </tr>\n",
       "    <tr>\n",
       "      <th>2</th>\n",
       "      <td>0</td>\n",
       "      <td>2010-10-16T03:48:54Z</td>\n",
       "      <td>39.891077</td>\n",
       "      <td>-105.068532</td>\n",
       "      <td>dd7cd3d264c2d063832db506fba8bf79</td>\n",
       "    </tr>\n",
       "    <tr>\n",
       "      <th>3</th>\n",
       "      <td>0</td>\n",
       "      <td>2010-10-14T18:25:51Z</td>\n",
       "      <td>39.750469</td>\n",
       "      <td>-104.999073</td>\n",
       "      <td>9848afcc62e500a01cf6fbf24b797732f8963683</td>\n",
       "    </tr>\n",
       "    <tr>\n",
       "      <th>4</th>\n",
       "      <td>0</td>\n",
       "      <td>2010-10-14T00:21:47Z</td>\n",
       "      <td>39.752713</td>\n",
       "      <td>-104.996337</td>\n",
       "      <td>2ef143e12038c870038df53e0478cefc</td>\n",
       "    </tr>\n",
       "  </tbody>\n",
       "</table>\n",
       "</div>"
      ],
      "text/plain": [
       "   user          checkin_time   latitude   longitude  \\\n",
       "0     0  2010-10-17T01:48:53Z  39.747652 -104.992510   \n",
       "1     0  2010-10-16T06:02:04Z  39.891383 -105.070814   \n",
       "2     0  2010-10-16T03:48:54Z  39.891077 -105.068532   \n",
       "3     0  2010-10-14T18:25:51Z  39.750469 -104.999073   \n",
       "4     0  2010-10-14T00:21:47Z  39.752713 -104.996337   \n",
       "\n",
       "                                location_id  \n",
       "0          88c46bf20db295831bd2d1718ad7e6f5  \n",
       "1          7a0f88982aa015062b95e3b4843f9ca2  \n",
       "2          dd7cd3d264c2d063832db506fba8bf79  \n",
       "3  9848afcc62e500a01cf6fbf24b797732f8963683  \n",
       "4          2ef143e12038c870038df53e0478cefc  "
      ]
     },
     "execution_count": 23,
     "metadata": {},
     "output_type": "execute_result"
    }
   ],
   "source": [
    "checkins_b.head()"
   ]
  },
  {
   "cell_type": "markdown",
   "metadata": {},
   "source": [
    "Here's the airport dataset."
   ]
  },
  {
   "cell_type": "code",
   "execution_count": 24,
   "metadata": {},
   "outputs": [
    {
     "data": {
      "text/html": [
       "<div>\n",
       "<style scoped>\n",
       "    .dataframe tbody tr th:only-of-type {\n",
       "        vertical-align: middle;\n",
       "    }\n",
       "\n",
       "    .dataframe tbody tr th {\n",
       "        vertical-align: top;\n",
       "    }\n",
       "\n",
       "    .dataframe thead th {\n",
       "        text-align: right;\n",
       "    }\n",
       "</style>\n",
       "<table border=\"1\" class=\"dataframe\">\n",
       "  <thead>\n",
       "    <tr style=\"text-align: right;\">\n",
       "      <th></th>\n",
       "      <th>id</th>\n",
       "      <th>ident</th>\n",
       "      <th>type</th>\n",
       "      <th>name</th>\n",
       "      <th>latitude_deg</th>\n",
       "      <th>longitude_deg</th>\n",
       "      <th>elevation_ft</th>\n",
       "      <th>continent</th>\n",
       "      <th>iso_country</th>\n",
       "      <th>iso_region</th>\n",
       "      <th>municipality</th>\n",
       "      <th>scheduled_service</th>\n",
       "      <th>gps_code</th>\n",
       "      <th>iata_code</th>\n",
       "      <th>local_code</th>\n",
       "      <th>home_link</th>\n",
       "      <th>wikipedia_link</th>\n",
       "      <th>keywords</th>\n",
       "    </tr>\n",
       "  </thead>\n",
       "  <tbody>\n",
       "    <tr>\n",
       "      <th>0</th>\n",
       "      <td>6523</td>\n",
       "      <td>00A</td>\n",
       "      <td>heliport</td>\n",
       "      <td>Total Rf Heliport</td>\n",
       "      <td>40.070801</td>\n",
       "      <td>-74.933601</td>\n",
       "      <td>11.0</td>\n",
       "      <td>NaN</td>\n",
       "      <td>US</td>\n",
       "      <td>US-PA</td>\n",
       "      <td>Bensalem</td>\n",
       "      <td>no</td>\n",
       "      <td>00A</td>\n",
       "      <td>NaN</td>\n",
       "      <td>00A</td>\n",
       "      <td>NaN</td>\n",
       "      <td>NaN</td>\n",
       "      <td>NaN</td>\n",
       "    </tr>\n",
       "    <tr>\n",
       "      <th>1</th>\n",
       "      <td>323361</td>\n",
       "      <td>00AA</td>\n",
       "      <td>small_airport</td>\n",
       "      <td>Aero B Ranch Airport</td>\n",
       "      <td>38.704022</td>\n",
       "      <td>-101.473911</td>\n",
       "      <td>3435.0</td>\n",
       "      <td>NaN</td>\n",
       "      <td>US</td>\n",
       "      <td>US-KS</td>\n",
       "      <td>Leoti</td>\n",
       "      <td>no</td>\n",
       "      <td>00AA</td>\n",
       "      <td>NaN</td>\n",
       "      <td>00AA</td>\n",
       "      <td>NaN</td>\n",
       "      <td>NaN</td>\n",
       "      <td>NaN</td>\n",
       "    </tr>\n",
       "    <tr>\n",
       "      <th>2</th>\n",
       "      <td>6524</td>\n",
       "      <td>00AK</td>\n",
       "      <td>small_airport</td>\n",
       "      <td>Lowell Field</td>\n",
       "      <td>59.949200</td>\n",
       "      <td>-151.695999</td>\n",
       "      <td>450.0</td>\n",
       "      <td>NaN</td>\n",
       "      <td>US</td>\n",
       "      <td>US-AK</td>\n",
       "      <td>Anchor Point</td>\n",
       "      <td>no</td>\n",
       "      <td>00AK</td>\n",
       "      <td>NaN</td>\n",
       "      <td>00AK</td>\n",
       "      <td>NaN</td>\n",
       "      <td>NaN</td>\n",
       "      <td>NaN</td>\n",
       "    </tr>\n",
       "    <tr>\n",
       "      <th>3</th>\n",
       "      <td>6525</td>\n",
       "      <td>00AL</td>\n",
       "      <td>small_airport</td>\n",
       "      <td>Epps Airpark</td>\n",
       "      <td>34.864799</td>\n",
       "      <td>-86.770302</td>\n",
       "      <td>820.0</td>\n",
       "      <td>NaN</td>\n",
       "      <td>US</td>\n",
       "      <td>US-AL</td>\n",
       "      <td>Harvest</td>\n",
       "      <td>no</td>\n",
       "      <td>00AL</td>\n",
       "      <td>NaN</td>\n",
       "      <td>00AL</td>\n",
       "      <td>NaN</td>\n",
       "      <td>NaN</td>\n",
       "      <td>NaN</td>\n",
       "    </tr>\n",
       "    <tr>\n",
       "      <th>4</th>\n",
       "      <td>6526</td>\n",
       "      <td>00AR</td>\n",
       "      <td>closed</td>\n",
       "      <td>Newport Hospital &amp; Clinic Heliport</td>\n",
       "      <td>35.608700</td>\n",
       "      <td>-91.254898</td>\n",
       "      <td>237.0</td>\n",
       "      <td>NaN</td>\n",
       "      <td>US</td>\n",
       "      <td>US-AR</td>\n",
       "      <td>Newport</td>\n",
       "      <td>no</td>\n",
       "      <td>NaN</td>\n",
       "      <td>NaN</td>\n",
       "      <td>NaN</td>\n",
       "      <td>NaN</td>\n",
       "      <td>NaN</td>\n",
       "      <td>00AR</td>\n",
       "    </tr>\n",
       "  </tbody>\n",
       "</table>\n",
       "</div>"
      ],
      "text/plain": [
       "       id ident           type                                name  \\\n",
       "0    6523   00A       heliport                   Total Rf Heliport   \n",
       "1  323361  00AA  small_airport                Aero B Ranch Airport   \n",
       "2    6524  00AK  small_airport                        Lowell Field   \n",
       "3    6525  00AL  small_airport                        Epps Airpark   \n",
       "4    6526  00AR         closed  Newport Hospital & Clinic Heliport   \n",
       "\n",
       "   latitude_deg  longitude_deg  elevation_ft continent iso_country iso_region  \\\n",
       "0     40.070801     -74.933601          11.0       NaN          US      US-PA   \n",
       "1     38.704022    -101.473911        3435.0       NaN          US      US-KS   \n",
       "2     59.949200    -151.695999         450.0       NaN          US      US-AK   \n",
       "3     34.864799     -86.770302         820.0       NaN          US      US-AL   \n",
       "4     35.608700     -91.254898         237.0       NaN          US      US-AR   \n",
       "\n",
       "   municipality scheduled_service gps_code iata_code local_code home_link  \\\n",
       "0      Bensalem                no      00A       NaN        00A       NaN   \n",
       "1         Leoti                no     00AA       NaN       00AA       NaN   \n",
       "2  Anchor Point                no     00AK       NaN       00AK       NaN   \n",
       "3       Harvest                no     00AL       NaN       00AL       NaN   \n",
       "4       Newport                no      NaN       NaN        NaN       NaN   \n",
       "\n",
       "  wikipedia_link keywords  \n",
       "0            NaN      NaN  \n",
       "1            NaN      NaN  \n",
       "2            NaN      NaN  \n",
       "3            NaN      NaN  \n",
       "4            NaN     00AR  "
      ]
     },
     "execution_count": 24,
     "metadata": {},
     "output_type": "execute_result"
    }
   ],
   "source": [
    "airports.head()"
   ]
  },
  {
   "cell_type": "code",
   "execution_count": 25,
   "metadata": {},
   "outputs": [
    {
     "name": "stdout",
     "output_type": "stream",
     "text": [
      "Brightkite checkins dataset have 4747287 rows\n",
      "Gowalla checkins dataset have 6442892 rows\n"
     ]
    }
   ],
   "source": [
    "print(\"Brightkite checkins dataset have {} rows\".format(len(checkins_b)))\n",
    "print(\"Gowalla checkins dataset have {} rows\".format(len(checkins_g)))"
   ]
  },
  {
   "cell_type": "markdown",
   "metadata": {},
   "source": [
    "## Work on Checkins Datasets"
   ]
  },
  {
   "cell_type": "markdown",
   "metadata": {},
   "source": [
    "We check for missing values in both datasets"
   ]
  },
  {
   "cell_type": "code",
   "execution_count": 26,
   "metadata": {},
   "outputs": [
    {
     "name": "stdout",
     "output_type": "stream",
     "text": [
      "user            0\n",
      "checkin_time    6\n",
      "latitude        6\n",
      "longitude       6\n",
      "location_id     6\n",
      "dtype: int64\n",
      "\n",
      "user            0\n",
      "checkin_time    0\n",
      "latitude        0\n",
      "longitude       0\n",
      "location_id     0\n",
      "dtype: int64\n"
     ]
    }
   ],
   "source": [
    "print(checkins_b.isna().sum())\n",
    "print()\n",
    "print(checkins_g.isna().sum())"
   ]
  },
  {
   "cell_type": "code",
   "execution_count": 27,
   "metadata": {},
   "outputs": [],
   "source": [
    "checkins_b = checkins_b.dropna()"
   ]
  },
  {
   "cell_type": "code",
   "execution_count": 28,
   "metadata": {},
   "outputs": [],
   "source": [
    "checkins_b[\"checkin_time\"] = pd.to_datetime(checkins_b[\"checkin_time\"], format = \"%Y-%m-%dT%H:%M:%SZ\")\n",
    "checkins_g[\"checkin_time\"] = pd.to_datetime(checkins_g[\"checkin_time\"], format = \"%Y-%m-%dT%H:%M:%SZ\")"
   ]
  },
  {
   "cell_type": "markdown",
   "metadata": {},
   "source": [
    "We need to check also if coordinates are correct values"
   ]
  },
  {
   "cell_type": "code",
   "execution_count": 29,
   "metadata": {},
   "outputs": [
    {
     "name": "stdout",
     "output_type": "stream",
     "text": [
      "109\n",
      "29\n"
     ]
    }
   ],
   "source": [
    "print(len(checkins_b[((checkins_b[\"longitude\"] < -180) | (checkins_b[\"longitude\"] > 180)) | ((checkins_b[\"latitude\"] < -90) | (checkins_b[\"latitude\"] > 90))]))\n",
    "print(len(checkins_g[((checkins_g[\"longitude\"] < -180) | (checkins_g[\"longitude\"] > 180)) | ((checkins_g[\"latitude\"] < -90) | (checkins_g[\"latitude\"] > 90))]))"
   ]
  },
  {
   "cell_type": "markdown",
   "metadata": {},
   "source": [
    "We have 109 incorrect position values in the Brightkite dataset and 29 in Gowalla."
   ]
  },
  {
   "cell_type": "code",
   "execution_count": 31,
   "metadata": {},
   "outputs": [],
   "source": [
    "to_remove_b = checkins_b[((checkins_b[\"longitude\"] < -180) | (checkins_b[\"longitude\"] > 180)) | ((checkins_b[\"latitude\"] < -90) | (checkins_b[\"latitude\"] > 90))]\n",
    "to_remove_g = checkins_g[((checkins_g[\"longitude\"] < -180) | (checkins_g[\"longitude\"] > 180)) | ((checkins_g[\"latitude\"] < -90) | (checkins_g[\"latitude\"] > 90))]\n",
    "\n",
    "checkins_b = checkins_b.drop(to_remove_b.index)\n",
    "checkins_g = checkins_g.drop(to_remove_g.index)"
   ]
  },
  {
   "cell_type": "code",
   "execution_count": 32,
   "metadata": {},
   "outputs": [
    {
     "data": {
      "text/html": [
       "<div>\n",
       "<style scoped>\n",
       "    .dataframe tbody tr th:only-of-type {\n",
       "        vertical-align: middle;\n",
       "    }\n",
       "\n",
       "    .dataframe tbody tr th {\n",
       "        vertical-align: top;\n",
       "    }\n",
       "\n",
       "    .dataframe thead th {\n",
       "        text-align: right;\n",
       "    }\n",
       "</style>\n",
       "<table border=\"1\" class=\"dataframe\">\n",
       "  <thead>\n",
       "    <tr style=\"text-align: right;\">\n",
       "      <th></th>\n",
       "      <th>user</th>\n",
       "      <th>checkin_time</th>\n",
       "      <th>latitude</th>\n",
       "      <th>longitude</th>\n",
       "      <th>location_id</th>\n",
       "    </tr>\n",
       "  </thead>\n",
       "  <tbody>\n",
       "    <tr>\n",
       "      <th>0</th>\n",
       "      <td>0</td>\n",
       "      <td>2010-10-17 01:48:53</td>\n",
       "      <td>39.747652</td>\n",
       "      <td>-104.992510</td>\n",
       "      <td>88c46bf20db295831bd2d1718ad7e6f5</td>\n",
       "    </tr>\n",
       "    <tr>\n",
       "      <th>1</th>\n",
       "      <td>0</td>\n",
       "      <td>2010-10-16 06:02:04</td>\n",
       "      <td>39.891383</td>\n",
       "      <td>-105.070814</td>\n",
       "      <td>7a0f88982aa015062b95e3b4843f9ca2</td>\n",
       "    </tr>\n",
       "    <tr>\n",
       "      <th>2</th>\n",
       "      <td>0</td>\n",
       "      <td>2010-10-16 03:48:54</td>\n",
       "      <td>39.891077</td>\n",
       "      <td>-105.068532</td>\n",
       "      <td>dd7cd3d264c2d063832db506fba8bf79</td>\n",
       "    </tr>\n",
       "    <tr>\n",
       "      <th>3</th>\n",
       "      <td>0</td>\n",
       "      <td>2010-10-14 18:25:51</td>\n",
       "      <td>39.750469</td>\n",
       "      <td>-104.999073</td>\n",
       "      <td>9848afcc62e500a01cf6fbf24b797732f8963683</td>\n",
       "    </tr>\n",
       "    <tr>\n",
       "      <th>4</th>\n",
       "      <td>0</td>\n",
       "      <td>2010-10-14 00:21:47</td>\n",
       "      <td>39.752713</td>\n",
       "      <td>-104.996337</td>\n",
       "      <td>2ef143e12038c870038df53e0478cefc</td>\n",
       "    </tr>\n",
       "  </tbody>\n",
       "</table>\n",
       "</div>"
      ],
      "text/plain": [
       "   user        checkin_time   latitude   longitude  \\\n",
       "0     0 2010-10-17 01:48:53  39.747652 -104.992510   \n",
       "1     0 2010-10-16 06:02:04  39.891383 -105.070814   \n",
       "2     0 2010-10-16 03:48:54  39.891077 -105.068532   \n",
       "3     0 2010-10-14 18:25:51  39.750469 -104.999073   \n",
       "4     0 2010-10-14 00:21:47  39.752713 -104.996337   \n",
       "\n",
       "                                location_id  \n",
       "0          88c46bf20db295831bd2d1718ad7e6f5  \n",
       "1          7a0f88982aa015062b95e3b4843f9ca2  \n",
       "2          dd7cd3d264c2d063832db506fba8bf79  \n",
       "3  9848afcc62e500a01cf6fbf24b797732f8963683  \n",
       "4          2ef143e12038c870038df53e0478cefc  "
      ]
     },
     "execution_count": 32,
     "metadata": {},
     "output_type": "execute_result"
    }
   ],
   "source": [
    "checkins_b.head()"
   ]
  },
  {
   "cell_type": "markdown",
   "metadata": {},
   "source": [
    "Also, the ```location_id``` column is useless."
   ]
  },
  {
   "cell_type": "code",
   "execution_count": 33,
   "metadata": {},
   "outputs": [],
   "source": [
    "checkins_b = checkins_b.drop(columns=['location_id'])\n",
    "checkins_g = checkins_g.drop(columns=['location_id'])"
   ]
  },
  {
   "cell_type": "code",
   "execution_count": 34,
   "metadata": {},
   "outputs": [
    {
     "data": {
      "text/html": [
       "<div>\n",
       "<style scoped>\n",
       "    .dataframe tbody tr th:only-of-type {\n",
       "        vertical-align: middle;\n",
       "    }\n",
       "\n",
       "    .dataframe tbody tr th {\n",
       "        vertical-align: top;\n",
       "    }\n",
       "\n",
       "    .dataframe thead th {\n",
       "        text-align: right;\n",
       "    }\n",
       "</style>\n",
       "<table border=\"1\" class=\"dataframe\">\n",
       "  <thead>\n",
       "    <tr style=\"text-align: right;\">\n",
       "      <th></th>\n",
       "      <th>user</th>\n",
       "      <th>checkin_time</th>\n",
       "      <th>latitude</th>\n",
       "      <th>longitude</th>\n",
       "    </tr>\n",
       "  </thead>\n",
       "  <tbody>\n",
       "    <tr>\n",
       "      <th>0</th>\n",
       "      <td>0</td>\n",
       "      <td>2010-10-17 01:48:53</td>\n",
       "      <td>39.747652</td>\n",
       "      <td>-104.992510</td>\n",
       "    </tr>\n",
       "    <tr>\n",
       "      <th>1</th>\n",
       "      <td>0</td>\n",
       "      <td>2010-10-16 06:02:04</td>\n",
       "      <td>39.891383</td>\n",
       "      <td>-105.070814</td>\n",
       "    </tr>\n",
       "    <tr>\n",
       "      <th>2</th>\n",
       "      <td>0</td>\n",
       "      <td>2010-10-16 03:48:54</td>\n",
       "      <td>39.891077</td>\n",
       "      <td>-105.068532</td>\n",
       "    </tr>\n",
       "    <tr>\n",
       "      <th>3</th>\n",
       "      <td>0</td>\n",
       "      <td>2010-10-14 18:25:51</td>\n",
       "      <td>39.750469</td>\n",
       "      <td>-104.999073</td>\n",
       "    </tr>\n",
       "    <tr>\n",
       "      <th>4</th>\n",
       "      <td>0</td>\n",
       "      <td>2010-10-14 00:21:47</td>\n",
       "      <td>39.752713</td>\n",
       "      <td>-104.996337</td>\n",
       "    </tr>\n",
       "  </tbody>\n",
       "</table>\n",
       "</div>"
      ],
      "text/plain": [
       "   user        checkin_time   latitude   longitude\n",
       "0     0 2010-10-17 01:48:53  39.747652 -104.992510\n",
       "1     0 2010-10-16 06:02:04  39.891383 -105.070814\n",
       "2     0 2010-10-16 03:48:54  39.891077 -105.068532\n",
       "3     0 2010-10-14 18:25:51  39.750469 -104.999073\n",
       "4     0 2010-10-14 00:21:47  39.752713 -104.996337"
      ]
     },
     "execution_count": 34,
     "metadata": {},
     "output_type": "execute_result"
    }
   ],
   "source": [
    "checkins_b.head()"
   ]
  },
  {
   "cell_type": "markdown",
   "metadata": {},
   "source": [
    "## Work on Airport Dataset"
   ]
  },
  {
   "cell_type": "markdown",
   "metadata": {},
   "source": [
    "## Exploratory Data Analysis"
   ]
  },
  {
   "cell_type": "code",
   "execution_count": null,
   "metadata": {},
   "outputs": [],
   "source": []
  },
  {
   "cell_type": "code",
   "execution_count": null,
   "metadata": {},
   "outputs": [],
   "source": []
  },
  {
   "cell_type": "markdown",
   "metadata": {},
   "source": [
    "## Research Questions"
   ]
  },
  {
   "cell_type": "markdown",
   "metadata": {},
   "source": [
    "### Which countries travel the most long distance by plane?"
   ]
  },
  {
   "cell_type": "code",
   "execution_count": 37,
   "metadata": {},
   "outputs": [],
   "source": [
    "copy_checkins_b = checkins_b.copy()\n",
    "copy_checkins_g = checkins_g.copy()"
   ]
  },
  {
   "cell_type": "code",
   "execution_count": 38,
   "metadata": {},
   "outputs": [],
   "source": [
    "\"\"\"\n",
    "Assign a cell_number based on the cantor pairing function and discretization into 25km * 25km cells.\n",
    "\"\"\"\n",
    "@njit\n",
    "def assign_cell(lat, lon):\n",
    "    lon_km = 111.320 * np.cos(np.deg2rad(lat)) * lon\n",
    "    lat_km = 110.574 * lat\n",
    "    #assign to intervals using the cantor pair function\n",
    "    lat_km, lon_km = lat_km // 25, lon_km // 25 #now lat_km and lon_km contains the quotient from the division by 25.\n",
    "    return (1/2)*(lat_km + lon_km)*(lat_km + lon_km + 1) + lon_km"
   ]
  },
  {
   "cell_type": "markdown",
   "metadata": {},
   "source": [
    "For each checkin, we want to assign a cell_number based on the division of the world in 25km by 25km as in the replication. We do that using the cantor pairing function in the function above."
   ]
  },
  {
   "cell_type": "code",
   "execution_count": 39,
   "metadata": {},
   "outputs": [],
   "source": [
    "copy_checkins_b[\"cell_number\"] = assign_cell(copy_checkins_b[\"latitude\"].values, copy_checkins_b[\"longitude\"].values)\n",
    "copy_checkins_g[\"cell_number\"] = assign_cell(copy_checkins_g[\"latitude\"].values, copy_checkins_g[\"longitude\"].values)\n",
    "\n",
    "copy_checkins_b[\"cell_number\"] = copy_checkins_b[\"cell_number\"].astype('int')\n",
    "copy_checkins_g[\"cell_number\"] = copy_checkins_g[\"cell_number\"].astype('int')"
   ]
  },
  {
   "cell_type": "markdown",
   "metadata": {},
   "source": [
    "Next, we want to simplify the notion of home for each user because we only want to retrieve the country he lives in. To do that, we will simply take the average position of every checkin in each cell."
   ]
  },
  {
   "cell_type": "code",
   "execution_count": 40,
   "metadata": {},
   "outputs": [],
   "source": [
    "center_cells_b = copy_checkins_b[['latitude', 'longitude', 'cell_number']].groupby('cell_number').mean()\n",
    "center_cells_g = copy_checkins_g[['latitude', 'longitude', 'cell_number']].groupby('cell_number').mean()\n",
    "\n",
    "center_cells_b = center_cells_b.reset_index()\n",
    "center_cells_g = center_cells_g.reset_index()"
   ]
  },
  {
   "cell_type": "code",
   "execution_count": 41,
   "metadata": {},
   "outputs": [
    {
     "data": {
      "text/html": [
       "<div>\n",
       "<style scoped>\n",
       "    .dataframe tbody tr th:only-of-type {\n",
       "        vertical-align: middle;\n",
       "    }\n",
       "\n",
       "    .dataframe tbody tr th {\n",
       "        vertical-align: top;\n",
       "    }\n",
       "\n",
       "    .dataframe thead th {\n",
       "        text-align: right;\n",
       "    }\n",
       "</style>\n",
       "<table border=\"1\" class=\"dataframe\">\n",
       "  <thead>\n",
       "    <tr style=\"text-align: right;\">\n",
       "      <th></th>\n",
       "      <th>cell_number</th>\n",
       "      <th>latitude</th>\n",
       "      <th>longitude</th>\n",
       "    </tr>\n",
       "  </thead>\n",
       "  <tbody>\n",
       "    <tr>\n",
       "      <th>0</th>\n",
       "      <td>-286</td>\n",
       "      <td>64.545703</td>\n",
       "      <td>-149.087119</td>\n",
       "    </tr>\n",
       "    <tr>\n",
       "      <th>1</th>\n",
       "      <td>-284</td>\n",
       "      <td>64.152500</td>\n",
       "      <td>-145.842222</td>\n",
       "    </tr>\n",
       "    <tr>\n",
       "      <th>2</th>\n",
       "      <td>-282</td>\n",
       "      <td>63.562699</td>\n",
       "      <td>-142.300615</td>\n",
       "    </tr>\n",
       "    <tr>\n",
       "      <th>3</th>\n",
       "      <td>-280</td>\n",
       "      <td>63.934833</td>\n",
       "      <td>-145.788211</td>\n",
       "    </tr>\n",
       "    <tr>\n",
       "      <th>4</th>\n",
       "      <td>-279</td>\n",
       "      <td>63.661389</td>\n",
       "      <td>-144.064444</td>\n",
       "    </tr>\n",
       "  </tbody>\n",
       "</table>\n",
       "</div>"
      ],
      "text/plain": [
       "   cell_number   latitude   longitude\n",
       "0         -286  64.545703 -149.087119\n",
       "1         -284  64.152500 -145.842222\n",
       "2         -282  63.562699 -142.300615\n",
       "3         -280  63.934833 -145.788211\n",
       "4         -279  63.661389 -144.064444"
      ]
     },
     "execution_count": 41,
     "metadata": {},
     "output_type": "execute_result"
    }
   ],
   "source": [
    "center_cells_b.head()"
   ]
  },
  {
   "cell_type": "markdown",
   "metadata": {},
   "source": [
    "Now we work on the home for each user. Home is now the average position of checkins in each cell with the most checkins."
   ]
  },
  {
   "cell_type": "code",
   "execution_count": 43,
   "metadata": {},
   "outputs": [],
   "source": [
    "user_cell_b = copy_checkins_b.groupby([\"user\", \"cell_number\"]).count()\n",
    "user_cell_g = copy_checkins_g.groupby([\"user\", \"cell_number\"]).count()\n",
    "\n",
    "#We can remove these columns\n",
    "user_cell_b = user_cell_b.drop(columns = [\"latitude\", \"longitude\"]) \n",
    "user_cell_g = user_cell_g.drop(columns = [\"latitude\", \"longitude\"]) \n",
    "\n",
    "#rename the column to count\n",
    "user_cell_b.columns = [\"count\"] \n",
    "user_cell_g.columns = [\"count\"] \n",
    "\n",
    "#Sort by user to have user 0 first\n",
    "user_cell_b = user_cell_b.sort_values(\"count\").groupby(level=0).tail(1).sort_values('user') \n",
    "user_cell_g = user_cell_g.sort_values(\"count\").groupby(level=0).tail(1).sort_values('user') \n",
    "\n",
    "#Reset the index to break the multiindex and keep only the column cell_number\n",
    "user_cell_b = user_cell_b.reset_index().drop(columns=[\"count\"])\n",
    "user_cell_g = user_cell_g.reset_index().drop(columns=[\"count\"]) "
   ]
  },
  {
   "cell_type": "code",
   "execution_count": 44,
   "metadata": {},
   "outputs": [
    {
     "data": {
      "text/html": [
       "<div>\n",
       "<style scoped>\n",
       "    .dataframe tbody tr th:only-of-type {\n",
       "        vertical-align: middle;\n",
       "    }\n",
       "\n",
       "    .dataframe tbody tr th {\n",
       "        vertical-align: top;\n",
       "    }\n",
       "\n",
       "    .dataframe thead th {\n",
       "        text-align: right;\n",
       "    }\n",
       "</style>\n",
       "<table border=\"1\" class=\"dataframe\">\n",
       "  <thead>\n",
       "    <tr style=\"text-align: right;\">\n",
       "      <th></th>\n",
       "      <th>user</th>\n",
       "      <th>cell_number</th>\n",
       "    </tr>\n",
       "  </thead>\n",
       "  <tbody>\n",
       "    <tr>\n",
       "      <th>0</th>\n",
       "      <td>0</td>\n",
       "      <td>16660</td>\n",
       "    </tr>\n",
       "    <tr>\n",
       "      <th>1</th>\n",
       "      <td>1</td>\n",
       "      <td>34813</td>\n",
       "    </tr>\n",
       "    <tr>\n",
       "      <th>2</th>\n",
       "      <td>2</td>\n",
       "      <td>16660</td>\n",
       "    </tr>\n",
       "    <tr>\n",
       "      <th>3</th>\n",
       "      <td>3</td>\n",
       "      <td>34813</td>\n",
       "    </tr>\n",
       "    <tr>\n",
       "      <th>4</th>\n",
       "      <td>4</td>\n",
       "      <td>51736</td>\n",
       "    </tr>\n",
       "  </tbody>\n",
       "</table>\n",
       "</div>"
      ],
      "text/plain": [
       "   user  cell_number\n",
       "0     0        16660\n",
       "1     1        34813\n",
       "2     2        16660\n",
       "3     3        34813\n",
       "4     4        51736"
      ]
     },
     "execution_count": 44,
     "metadata": {},
     "output_type": "execute_result"
    }
   ],
   "source": [
    "user_cell_b.head()"
   ]
  },
  {
   "cell_type": "markdown",
   "metadata": {},
   "source": [
    "Now we can merge the two to have the home for each user as the average position of checkins in each cell."
   ]
  },
  {
   "cell_type": "code",
   "execution_count": 47,
   "metadata": {},
   "outputs": [],
   "source": [
    "homes_b = user_cell_b.merge(center_cells_b, on='cell_number')\n",
    "homes_g = user_cell_g.merge(center_cells_g, on='cell_number')"
   ]
  },
  {
   "cell_type": "code",
   "execution_count": 48,
   "metadata": {},
   "outputs": [
    {
     "data": {
      "text/html": [
       "<div>\n",
       "<style scoped>\n",
       "    .dataframe tbody tr th:only-of-type {\n",
       "        vertical-align: middle;\n",
       "    }\n",
       "\n",
       "    .dataframe tbody tr th {\n",
       "        vertical-align: top;\n",
       "    }\n",
       "\n",
       "    .dataframe thead th {\n",
       "        text-align: right;\n",
       "    }\n",
       "</style>\n",
       "<table border=\"1\" class=\"dataframe\">\n",
       "  <thead>\n",
       "    <tr style=\"text-align: right;\">\n",
       "      <th></th>\n",
       "      <th>user</th>\n",
       "      <th>cell_number</th>\n",
       "      <th>latitude</th>\n",
       "      <th>longitude</th>\n",
       "    </tr>\n",
       "  </thead>\n",
       "  <tbody>\n",
       "    <tr>\n",
       "      <th>0</th>\n",
       "      <td>0</td>\n",
       "      <td>16660</td>\n",
       "      <td>39.731991</td>\n",
       "      <td>-104.980205</td>\n",
       "    </tr>\n",
       "    <tr>\n",
       "      <th>1</th>\n",
       "      <td>2</td>\n",
       "      <td>16660</td>\n",
       "      <td>39.731991</td>\n",
       "      <td>-104.980205</td>\n",
       "    </tr>\n",
       "    <tr>\n",
       "      <th>2</th>\n",
       "      <td>8</td>\n",
       "      <td>16660</td>\n",
       "      <td>39.731991</td>\n",
       "      <td>-104.980205</td>\n",
       "    </tr>\n",
       "    <tr>\n",
       "      <th>3</th>\n",
       "      <td>12</td>\n",
       "      <td>16660</td>\n",
       "      <td>39.731991</td>\n",
       "      <td>-104.980205</td>\n",
       "    </tr>\n",
       "    <tr>\n",
       "      <th>4</th>\n",
       "      <td>13</td>\n",
       "      <td>16660</td>\n",
       "      <td>39.731991</td>\n",
       "      <td>-104.980205</td>\n",
       "    </tr>\n",
       "  </tbody>\n",
       "</table>\n",
       "</div>"
      ],
      "text/plain": [
       "   user  cell_number   latitude   longitude\n",
       "0     0        16660  39.731991 -104.980205\n",
       "1     2        16660  39.731991 -104.980205\n",
       "2     8        16660  39.731991 -104.980205\n",
       "3    12        16660  39.731991 -104.980205\n",
       "4    13        16660  39.731991 -104.980205"
      ]
     },
     "execution_count": 48,
     "metadata": {},
     "output_type": "execute_result"
    }
   ],
   "source": [
    "homes_b.head()"
   ]
  },
  {
   "cell_type": "markdown",
   "metadata": {},
   "source": [
    "Now for each home, we want to retrieve the country based on its coordinates."
   ]
  },
  {
   "cell_type": "code",
   "execution_count": 26,
   "metadata": {},
   "outputs": [],
   "source": [
    "homes_countries_b = homes_b.copy()\n",
    "homes_countries_g = homes_g.copy()"
   ]
  },
  {
   "cell_type": "code",
   "execution_count": 27,
   "metadata": {},
   "outputs": [],
   "source": [
    "homes_countries_b = homes_countries_b[['latitude', 'longitude']].groupby(['latitude', 'longitude']).count().reset_index()\n",
    "homes_countries_g = homes_countries_g[['latitude', 'longitude']].groupby(['latitude', 'longitude']).count().reset_index()"
   ]
  },
  {
   "cell_type": "code",
   "execution_count": 28,
   "metadata": {},
   "outputs": [
    {
     "data": {
      "text/html": [
       "<div>\n",
       "<style scoped>\n",
       "    .dataframe tbody tr th:only-of-type {\n",
       "        vertical-align: middle;\n",
       "    }\n",
       "\n",
       "    .dataframe tbody tr th {\n",
       "        vertical-align: top;\n",
       "    }\n",
       "\n",
       "    .dataframe thead th {\n",
       "        text-align: right;\n",
       "    }\n",
       "</style>\n",
       "<table border=\"1\" class=\"dataframe\">\n",
       "  <thead>\n",
       "    <tr style=\"text-align: right;\">\n",
       "      <th></th>\n",
       "      <th>latitude</th>\n",
       "      <th>longitude</th>\n",
       "    </tr>\n",
       "  </thead>\n",
       "  <tbody>\n",
       "    <tr>\n",
       "      <th>0</th>\n",
       "      <td>-45.866346</td>\n",
       "      <td>170.516186</td>\n",
       "    </tr>\n",
       "    <tr>\n",
       "      <th>1</th>\n",
       "      <td>-45.076905</td>\n",
       "      <td>170.982070</td>\n",
       "    </tr>\n",
       "    <tr>\n",
       "      <th>2</th>\n",
       "      <td>-44.733333</td>\n",
       "      <td>170.466667</td>\n",
       "    </tr>\n",
       "    <tr>\n",
       "      <th>3</th>\n",
       "      <td>-43.576341</td>\n",
       "      <td>172.628973</td>\n",
       "    </tr>\n",
       "    <tr>\n",
       "      <th>4</th>\n",
       "      <td>-43.520079</td>\n",
       "      <td>172.604997</td>\n",
       "    </tr>\n",
       "  </tbody>\n",
       "</table>\n",
       "</div>"
      ],
      "text/plain": [
       "    latitude   longitude\n",
       "0 -45.866346  170.516186\n",
       "1 -45.076905  170.982070\n",
       "2 -44.733333  170.466667\n",
       "3 -43.576341  172.628973\n",
       "4 -43.520079  172.604997"
      ]
     },
     "execution_count": 28,
     "metadata": {},
     "output_type": "execute_result"
    }
   ],
   "source": [
    "homes_countries_b.head()"
   ]
  },
  {
   "cell_type": "markdown",
   "metadata": {},
   "source": [
    "We create a function which will return the country code given a point coordinates."
   ]
  },
  {
   "cell_type": "code",
   "execution_count": 50,
   "metadata": {},
   "outputs": [],
   "source": [
    "\"\"\"\n",
    "Return the ISO country code of a point in space\n",
    "\n",
    "Arguments\n",
    "---------\n",
    "    -lat, lon: Latitude and Longitude of the point\n",
    "\n",
    "Returns\n",
    "---------\n",
    "    -Returns the ISO country code of the point\n",
    "\"\"\"\n",
    "\n",
    "\n",
    "def retrieve_country(lat, lon):\n",
    "    return reverse_geocoder.search((lat, lon))[0]['cc']\n",
    "\n",
    "#vectorize the function\n",
    "retrieve_country_vec = np.vectorize(retrieve_country)"
   ]
  },
  {
   "cell_type": "markdown",
   "metadata": {},
   "source": [
    "The following cell takes a lot of time, so we pickled it."
   ]
  },
  {
   "cell_type": "code",
   "execution_count": 54,
   "metadata": {},
   "outputs": [],
   "source": [
    "# homes_countries_b['country'] = retrieve_country_vec(homes_countries_b['latitude'], \n",
    "#                                                     homes_countries_b['longitude'])\n",
    "\n",
    "# homes_countries_g['country'] = retrieve_country_vec(homes_countries_g['latitude'], \n",
    "#                                                     homes_countries_g['longitude'])"
   ]
  },
  {
   "cell_type": "code",
   "execution_count": 30,
   "metadata": {},
   "outputs": [],
   "source": [
    "#homes_countries_b.to_pickle('homes_countries_b.pkl')\n",
    "#homes_countries_g.to_pickle('homes_countries_g.pkl')"
   ]
  },
  {
   "cell_type": "code",
   "execution_count": 54,
   "metadata": {},
   "outputs": [],
   "source": [
    "homes_countries_b = pd.read_pickle(\"data/homes_countries_b.pkl\")\n",
    "homes_countries_g = pd.read_pickle(\"data/homes_countries_g.pkl\")"
   ]
  },
  {
   "cell_type": "code",
   "execution_count": 57,
   "metadata": {},
   "outputs": [
    {
     "data": {
      "text/html": [
       "<div>\n",
       "<style scoped>\n",
       "    .dataframe tbody tr th:only-of-type {\n",
       "        vertical-align: middle;\n",
       "    }\n",
       "\n",
       "    .dataframe tbody tr th {\n",
       "        vertical-align: top;\n",
       "    }\n",
       "\n",
       "    .dataframe thead th {\n",
       "        text-align: right;\n",
       "    }\n",
       "</style>\n",
       "<table border=\"1\" class=\"dataframe\">\n",
       "  <thead>\n",
       "    <tr style=\"text-align: right;\">\n",
       "      <th></th>\n",
       "      <th>latitude</th>\n",
       "      <th>longitude</th>\n",
       "      <th>country</th>\n",
       "    </tr>\n",
       "  </thead>\n",
       "  <tbody>\n",
       "    <tr>\n",
       "      <th>0</th>\n",
       "      <td>-45.866346</td>\n",
       "      <td>170.516186</td>\n",
       "      <td>NZ</td>\n",
       "    </tr>\n",
       "    <tr>\n",
       "      <th>1</th>\n",
       "      <td>-45.076905</td>\n",
       "      <td>170.982070</td>\n",
       "      <td>NZ</td>\n",
       "    </tr>\n",
       "    <tr>\n",
       "      <th>2</th>\n",
       "      <td>-44.733333</td>\n",
       "      <td>170.466667</td>\n",
       "      <td>NZ</td>\n",
       "    </tr>\n",
       "    <tr>\n",
       "      <th>3</th>\n",
       "      <td>-43.576341</td>\n",
       "      <td>172.628973</td>\n",
       "      <td>NZ</td>\n",
       "    </tr>\n",
       "    <tr>\n",
       "      <th>4</th>\n",
       "      <td>-43.520079</td>\n",
       "      <td>172.604997</td>\n",
       "      <td>NZ</td>\n",
       "    </tr>\n",
       "  </tbody>\n",
       "</table>\n",
       "</div>"
      ],
      "text/plain": [
       "    latitude   longitude country\n",
       "0 -45.866346  170.516186      NZ\n",
       "1 -45.076905  170.982070      NZ\n",
       "2 -44.733333  170.466667      NZ\n",
       "3 -43.576341  172.628973      NZ\n",
       "4 -43.520079  172.604997      NZ"
      ]
     },
     "execution_count": 57,
     "metadata": {},
     "output_type": "execute_result"
    }
   ],
   "source": [
    "homes_countries_b.head()"
   ]
  },
  {
   "cell_type": "markdown",
   "metadata": {},
   "source": [
    "Now that we have for each 'home' the country code, we can now merge the two datasets so that we have a complete dataframe."
   ]
  },
  {
   "cell_type": "code",
   "execution_count": 58,
   "metadata": {},
   "outputs": [],
   "source": [
    "homes_countries_b = homes_b.merge(homes_countries_b, on=['latitude', 'longitude'])\n",
    "homes_countries_g = homes_g.merge(homes_countries_g, on=['latitude', 'longitude'])"
   ]
  },
  {
   "cell_type": "code",
   "execution_count": 60,
   "metadata": {},
   "outputs": [
    {
     "data": {
      "text/html": [
       "<div>\n",
       "<style scoped>\n",
       "    .dataframe tbody tr th:only-of-type {\n",
       "        vertical-align: middle;\n",
       "    }\n",
       "\n",
       "    .dataframe tbody tr th {\n",
       "        vertical-align: top;\n",
       "    }\n",
       "\n",
       "    .dataframe thead th {\n",
       "        text-align: right;\n",
       "    }\n",
       "</style>\n",
       "<table border=\"1\" class=\"dataframe\">\n",
       "  <thead>\n",
       "    <tr style=\"text-align: right;\">\n",
       "      <th></th>\n",
       "      <th>user</th>\n",
       "      <th>cell_number</th>\n",
       "      <th>latitude</th>\n",
       "      <th>longitude</th>\n",
       "      <th>country</th>\n",
       "    </tr>\n",
       "  </thead>\n",
       "  <tbody>\n",
       "    <tr>\n",
       "      <th>0</th>\n",
       "      <td>0</td>\n",
       "      <td>16660</td>\n",
       "      <td>39.731991</td>\n",
       "      <td>-104.980205</td>\n",
       "      <td>US</td>\n",
       "    </tr>\n",
       "    <tr>\n",
       "      <th>1</th>\n",
       "      <td>2</td>\n",
       "      <td>16660</td>\n",
       "      <td>39.731991</td>\n",
       "      <td>-104.980205</td>\n",
       "      <td>US</td>\n",
       "    </tr>\n",
       "    <tr>\n",
       "      <th>2</th>\n",
       "      <td>8</td>\n",
       "      <td>16660</td>\n",
       "      <td>39.731991</td>\n",
       "      <td>-104.980205</td>\n",
       "      <td>US</td>\n",
       "    </tr>\n",
       "    <tr>\n",
       "      <th>3</th>\n",
       "      <td>12</td>\n",
       "      <td>16660</td>\n",
       "      <td>39.731991</td>\n",
       "      <td>-104.980205</td>\n",
       "      <td>US</td>\n",
       "    </tr>\n",
       "    <tr>\n",
       "      <th>4</th>\n",
       "      <td>13</td>\n",
       "      <td>16660</td>\n",
       "      <td>39.731991</td>\n",
       "      <td>-104.980205</td>\n",
       "      <td>US</td>\n",
       "    </tr>\n",
       "  </tbody>\n",
       "</table>\n",
       "</div>"
      ],
      "text/plain": [
       "   user  cell_number   latitude   longitude country\n",
       "0     0        16660  39.731991 -104.980205      US\n",
       "1     2        16660  39.731991 -104.980205      US\n",
       "2     8        16660  39.731991 -104.980205      US\n",
       "3    12        16660  39.731991 -104.980205      US\n",
       "4    13        16660  39.731991 -104.980205      US"
      ]
     },
     "execution_count": 60,
     "metadata": {},
     "output_type": "execute_result"
    }
   ],
   "source": [
    "homes_countries_b.head()"
   ]
  },
  {
   "cell_type": "markdown",
   "metadata": {},
   "source": [
    "### Where do people from different countries travel to the most?"
   ]
  },
  {
   "cell_type": "markdown",
   "metadata": {},
   "source": [
    "### Check if it is possible to predict user home areas based on their long distance travel patterns?"
   ]
  },
  {
   "cell_type": "code",
   "execution_count": null,
   "metadata": {},
   "outputs": [],
   "source": []
  }
 ],
 "metadata": {
  "kernelspec": {
   "display_name": "Python 3",
   "language": "python",
   "name": "python3"
  },
  "language_info": {
   "codemirror_mode": {
    "name": "ipython",
    "version": 3
   },
   "file_extension": ".py",
   "mimetype": "text/x-python",
   "name": "python",
   "nbconvert_exporter": "python",
   "pygments_lexer": "ipython3",
   "version": "3.8.5"
  }
 },
 "nbformat": 4,
 "nbformat_minor": 4
}
